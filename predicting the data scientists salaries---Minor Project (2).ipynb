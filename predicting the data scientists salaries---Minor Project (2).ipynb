{
 "cells": [
  {
   "cell_type": "code",
   "execution_count": 8,
   "id": "ac365fb5",
   "metadata": {},
   "outputs": [],
   "source": [
    "import numpy as np\n",
    "import pandas as pd\n",
    "import matplotlib.pyplot as plt"
   ]
  },
  {
   "cell_type": "code",
   "execution_count": 9,
   "id": "178a1cfc",
   "metadata": {},
   "outputs": [],
   "source": [
    "# work_year: The year the salary was paid.\n",
    "# experience_level: The experience level in the job during the year\n",
    "# employment_type: The type of employment for the role\n",
    "# job_title: The role worked in during the year.\n",
    "# salary: The total gross salary amount paid.\n",
    "# salary_currency: The currency of the salary paid as an ISO 4217 currency code.\n",
    "# salaryinusd : The salary in USD\n",
    "# employee_residence: Employee's primary country of residence in during the work year as an ISO 3166 country code.\n",
    "# remote_ratio: The overall amount of work done remotely\n",
    "# company_location : The country of the employer's main office or contracting branch\n",
    "# company_size : The median number of people that worked for the company during the year "
   ]
  },
  {
   "cell_type": "code",
   "execution_count": 10,
   "id": "f3eb0bc1",
   "metadata": {},
   "outputs": [
    {
     "data": {
      "text/html": [
       "<div>\n",
       "<style scoped>\n",
       "    .dataframe tbody tr th:only-of-type {\n",
       "        vertical-align: middle;\n",
       "    }\n",
       "\n",
       "    .dataframe tbody tr th {\n",
       "        vertical-align: top;\n",
       "    }\n",
       "\n",
       "    .dataframe thead th {\n",
       "        text-align: right;\n",
       "    }\n",
       "</style>\n",
       "<table border=\"1\" class=\"dataframe\">\n",
       "  <thead>\n",
       "    <tr style=\"text-align: right;\">\n",
       "      <th></th>\n",
       "      <th>work_year</th>\n",
       "      <th>experience_level</th>\n",
       "      <th>employment_type</th>\n",
       "      <th>job_title</th>\n",
       "      <th>salary</th>\n",
       "      <th>salary_currency</th>\n",
       "      <th>salary_in_usd</th>\n",
       "      <th>employee_residence</th>\n",
       "      <th>remote_ratio</th>\n",
       "      <th>company_location</th>\n",
       "      <th>company_size</th>\n",
       "    </tr>\n",
       "  </thead>\n",
       "  <tbody>\n",
       "    <tr>\n",
       "      <th>0</th>\n",
       "      <td>2023</td>\n",
       "      <td>SE</td>\n",
       "      <td>FT</td>\n",
       "      <td>Principal Data Scientist</td>\n",
       "      <td>80000</td>\n",
       "      <td>EUR</td>\n",
       "      <td>85847</td>\n",
       "      <td>ES</td>\n",
       "      <td>100</td>\n",
       "      <td>ES</td>\n",
       "      <td>L</td>\n",
       "    </tr>\n",
       "    <tr>\n",
       "      <th>1</th>\n",
       "      <td>2023</td>\n",
       "      <td>MI</td>\n",
       "      <td>CT</td>\n",
       "      <td>ML Engineer</td>\n",
       "      <td>30000</td>\n",
       "      <td>USD</td>\n",
       "      <td>30000</td>\n",
       "      <td>US</td>\n",
       "      <td>100</td>\n",
       "      <td>US</td>\n",
       "      <td>S</td>\n",
       "    </tr>\n",
       "    <tr>\n",
       "      <th>2</th>\n",
       "      <td>2023</td>\n",
       "      <td>MI</td>\n",
       "      <td>CT</td>\n",
       "      <td>ML Engineer</td>\n",
       "      <td>25500</td>\n",
       "      <td>USD</td>\n",
       "      <td>25500</td>\n",
       "      <td>US</td>\n",
       "      <td>100</td>\n",
       "      <td>US</td>\n",
       "      <td>S</td>\n",
       "    </tr>\n",
       "    <tr>\n",
       "      <th>3</th>\n",
       "      <td>2023</td>\n",
       "      <td>SE</td>\n",
       "      <td>FT</td>\n",
       "      <td>Data Scientist</td>\n",
       "      <td>175000</td>\n",
       "      <td>USD</td>\n",
       "      <td>175000</td>\n",
       "      <td>CA</td>\n",
       "      <td>100</td>\n",
       "      <td>CA</td>\n",
       "      <td>M</td>\n",
       "    </tr>\n",
       "    <tr>\n",
       "      <th>4</th>\n",
       "      <td>2023</td>\n",
       "      <td>SE</td>\n",
       "      <td>FT</td>\n",
       "      <td>Data Scientist</td>\n",
       "      <td>120000</td>\n",
       "      <td>USD</td>\n",
       "      <td>120000</td>\n",
       "      <td>CA</td>\n",
       "      <td>100</td>\n",
       "      <td>CA</td>\n",
       "      <td>M</td>\n",
       "    </tr>\n",
       "  </tbody>\n",
       "</table>\n",
       "</div>"
      ],
      "text/plain": [
       "   work_year experience_level employment_type                 job_title  \\\n",
       "0       2023               SE              FT  Principal Data Scientist   \n",
       "1       2023               MI              CT               ML Engineer   \n",
       "2       2023               MI              CT               ML Engineer   \n",
       "3       2023               SE              FT            Data Scientist   \n",
       "4       2023               SE              FT            Data Scientist   \n",
       "\n",
       "   salary salary_currency  salary_in_usd employee_residence  remote_ratio  \\\n",
       "0   80000             EUR          85847                 ES           100   \n",
       "1   30000             USD          30000                 US           100   \n",
       "2   25500             USD          25500                 US           100   \n",
       "3  175000             USD         175000                 CA           100   \n",
       "4  120000             USD         120000                 CA           100   \n",
       "\n",
       "  company_location company_size  \n",
       "0               ES            L  \n",
       "1               US            S  \n",
       "2               US            S  \n",
       "3               CA            M  \n",
       "4               CA            M  "
      ]
     },
     "execution_count": 10,
     "metadata": {},
     "output_type": "execute_result"
    }
   ],
   "source": [
    "df1 = pd.read_csv('salaries_ds.csv')\n",
    "df1.head()"
   ]
  },
  {
   "cell_type": "code",
   "execution_count": 11,
   "id": "44575ddb",
   "metadata": {},
   "outputs": [
    {
     "data": {
      "text/plain": [
       "(3755, 11)"
      ]
     },
     "execution_count": 11,
     "metadata": {},
     "output_type": "execute_result"
    }
   ],
   "source": [
    "df1.shape    # rows=3755 , cols=11"
   ]
  },
  {
   "cell_type": "markdown",
   "id": "73b599a3",
   "metadata": {},
   "source": [
    "##  Data preprocessing"
   ]
  },
  {
   "cell_type": "code",
   "execution_count": 12,
   "id": "ea731518",
   "metadata": {},
   "outputs": [
    {
     "data": {
      "text/plain": [
       "work_year             0\n",
       "experience_level      0\n",
       "employment_type       0\n",
       "job_title             0\n",
       "salary                0\n",
       "salary_currency       0\n",
       "salary_in_usd         0\n",
       "employee_residence    0\n",
       "remote_ratio          0\n",
       "company_location      0\n",
       "company_size          0\n",
       "dtype: int64"
      ]
     },
     "execution_count": 12,
     "metadata": {},
     "output_type": "execute_result"
    }
   ],
   "source": [
    "df1.isnull().sum()    #handling null values"
   ]
  },
  {
   "cell_type": "code",
   "execution_count": 13,
   "id": "dda2d8aa",
   "metadata": {},
   "outputs": [
    {
     "data": {
      "text/plain": [
       "1171"
      ]
     },
     "execution_count": 13,
     "metadata": {},
     "output_type": "execute_result"
    }
   ],
   "source": [
    "df1.duplicated().sum()      #handling duplicates"
   ]
  },
  {
   "cell_type": "code",
   "execution_count": 14,
   "id": "93596419",
   "metadata": {},
   "outputs": [
    {
     "data": {
      "text/plain": [
       "0"
      ]
     },
     "execution_count": 14,
     "metadata": {},
     "output_type": "execute_result"
    }
   ],
   "source": [
    "df1.drop_duplicates(inplace=True)\n",
    "df1.duplicated().sum()"
   ]
  },
  {
   "cell_type": "code",
   "execution_count": 15,
   "id": "96a6c28d",
   "metadata": {},
   "outputs": [
    {
     "data": {
      "text/plain": [
       "work_year              int64\n",
       "experience_level      object\n",
       "employment_type       object\n",
       "job_title             object\n",
       "salary                 int64\n",
       "salary_currency       object\n",
       "salary_in_usd          int64\n",
       "employee_residence    object\n",
       "remote_ratio           int64\n",
       "company_location      object\n",
       "company_size          object\n",
       "dtype: object"
      ]
     },
     "execution_count": 15,
     "metadata": {},
     "output_type": "execute_result"
    }
   ],
   "source": [
    "df1.dtypes"
   ]
  },
  {
   "cell_type": "code",
   "execution_count": 16,
   "id": "378fcc54",
   "metadata": {},
   "outputs": [
    {
     "name": "stdout",
     "output_type": "stream",
     "text": [
      "Index(['experience_level', 'employment_type', 'job_title', 'salary_currency',\n",
      "       'employee_residence', 'company_location', 'company_size'],\n",
      "      dtype='object')\n"
     ]
    }
   ],
   "source": [
    "cat_cols = df1.dtypes[df1.dtypes=='object'].index\n",
    "print(cat_cols)"
   ]
  },
  {
   "cell_type": "code",
   "execution_count": 17,
   "id": "c16b4808",
   "metadata": {},
   "outputs": [
    {
     "name": "stdout",
     "output_type": "stream",
     "text": [
      "Feature:   experience_level\n",
      "SE    1554\n",
      "MI     664\n",
      "EN     270\n",
      "EX      96\n",
      "Name: experience_level, dtype: int64\n",
      "******************************\n",
      "Feature:   employment_type\n",
      "FT    2547\n",
      "PT      17\n",
      "CT      10\n",
      "FL      10\n",
      "Name: employment_type, dtype: int64\n",
      "******************************\n",
      "Feature:   job_title\n",
      "Data Engineer                 598\n",
      "Data Scientist                538\n",
      "Data Analyst                  396\n",
      "Machine Learning Engineer     206\n",
      "Analytics Engineer             91\n",
      "                             ... \n",
      "Staff Data Analyst              1\n",
      "Manager Data Management         1\n",
      "Data Management Specialist      1\n",
      "Power BI Developer              1\n",
      "Data Science Tech Lead          1\n",
      "Name: job_title, Length: 93, dtype: int64\n",
      "******************************\n",
      "Feature:   salary_currency\n",
      "USD    2107\n",
      "EUR     200\n",
      "GBP     144\n",
      "INR      59\n",
      "CAD      25\n",
      "AUD       9\n",
      "BRL       6\n",
      "SGD       6\n",
      "PLN       5\n",
      "CHF       4\n",
      "TRY       3\n",
      "JPY       3\n",
      "HUF       3\n",
      "DKK       3\n",
      "THB       2\n",
      "MXN       1\n",
      "ILS       1\n",
      "CLP       1\n",
      "HKD       1\n",
      "CZK       1\n",
      "Name: salary_currency, dtype: int64\n",
      "******************************\n",
      "Feature:   employee_residence\n",
      "US    1893\n",
      "GB     150\n",
      "CA      81\n",
      "IN      70\n",
      "ES      47\n",
      "      ... \n",
      "AM       1\n",
      "CR       1\n",
      "SK       1\n",
      "IQ       1\n",
      "JE       1\n",
      "Name: employee_residence, Length: 78, dtype: int64\n",
      "******************************\n",
      "Feature:   company_location\n",
      "US    1929\n",
      "GB     155\n",
      "CA      83\n",
      "IN      57\n",
      "DE      55\n",
      "      ... \n",
      "MK       1\n",
      "PH       1\n",
      "BA       1\n",
      "SK       1\n",
      "IQ       1\n",
      "Name: company_location, Length: 72, dtype: int64\n",
      "******************************\n",
      "Feature:   company_size\n",
      "M    2028\n",
      "L     409\n",
      "S     147\n",
      "Name: company_size, dtype: int64\n",
      "******************************\n"
     ]
    }
   ],
   "source": [
    "for i in cat_cols:\n",
    "    print('Feature:  ',i)\n",
    "    print(df1[i].value_counts())\n",
    "    print('*'*30)"
   ]
  },
  {
   "cell_type": "code",
   "execution_count": 18,
   "id": "e2351679",
   "metadata": {},
   "outputs": [
    {
     "name": "stdout",
     "output_type": "stream",
     "text": [
      "Index(['experience_level', 'employment_type', 'job_title', 'salary_currency',\n",
      "       'employee_residence', 'company_location', 'company_size'],\n",
      "      dtype='object')\n"
     ]
    }
   ],
   "source": [
    "print(cat_cols)"
   ]
  },
  {
   "cell_type": "code",
   "execution_count": 19,
   "id": "df67b906",
   "metadata": {},
   "outputs": [
    {
     "data": {
      "text/plain": [
       "Index(['work_year', 'experience_level', 'employment_type', 'job_title',\n",
       "       'salary', 'salary_currency', 'salary_in_usd', 'employee_residence',\n",
       "       'remote_ratio', 'company_location', 'company_size'],\n",
       "      dtype='object')"
      ]
     },
     "execution_count": 19,
     "metadata": {},
     "output_type": "execute_result"
    }
   ],
   "source": [
    "df1.columns"
   ]
  },
  {
   "cell_type": "markdown",
   "id": "99c00843",
   "metadata": {},
   "source": [
    "## Encoding the categorical coloumns"
   ]
  },
  {
   "cell_type": "code",
   "execution_count": 20,
   "id": "7c93d877",
   "metadata": {},
   "outputs": [],
   "source": [
    "from sklearn.preprocessing import LabelEncoder"
   ]
  },
  {
   "cell_type": "code",
   "execution_count": 21,
   "id": "8fcc36f0",
   "metadata": {},
   "outputs": [],
   "source": [
    "lb = LabelEncoder()\n",
    "for i in cat_cols:\n",
    "    df1[i] = lb.fit_transform(df1[i])"
   ]
  },
  {
   "cell_type": "code",
   "execution_count": 22,
   "id": "a61e0d1c",
   "metadata": {},
   "outputs": [
    {
     "data": {
      "text/plain": [
       "work_year             int64\n",
       "experience_level      int32\n",
       "employment_type       int32\n",
       "job_title             int32\n",
       "salary                int64\n",
       "salary_currency       int32\n",
       "salary_in_usd         int64\n",
       "employee_residence    int32\n",
       "remote_ratio          int64\n",
       "company_location      int32\n",
       "company_size          int32\n",
       "dtype: object"
      ]
     },
     "execution_count": 22,
     "metadata": {},
     "output_type": "execute_result"
    }
   ],
   "source": [
    "df1.dtypes"
   ]
  },
  {
   "cell_type": "code",
   "execution_count": 23,
   "id": "96efea15",
   "metadata": {},
   "outputs": [
    {
     "data": {
      "text/plain": [
       "Index(['work_year', 'experience_level', 'employment_type', 'job_title',\n",
       "       'salary', 'salary_currency', 'salary_in_usd', 'employee_residence',\n",
       "       'remote_ratio', 'company_location', 'company_size'],\n",
       "      dtype='object')"
      ]
     },
     "execution_count": 23,
     "metadata": {},
     "output_type": "execute_result"
    }
   ],
   "source": [
    "df1.columns"
   ]
  },
  {
   "cell_type": "markdown",
   "id": "8188f0a0",
   "metadata": {},
   "source": [
    "## Selecting x (independent variable) and y (dependent variable)"
   ]
  },
  {
   "cell_type": "code",
   "execution_count": 24,
   "id": "6010be48",
   "metadata": {},
   "outputs": [
    {
     "name": "stdout",
     "output_type": "stream",
     "text": [
      "(2584, 10)\n",
      "(2584,)\n",
      "<class 'pandas.core.frame.DataFrame'>\n",
      "<class 'pandas.core.series.Series'>\n"
     ]
    }
   ],
   "source": [
    "## salary - target variable = y\n",
    "\n",
    "x1 = df1.drop(['salary'],axis=1)\n",
    "y1 = df1['salary']\n",
    "print(x1.shape)\n",
    "print(y1.shape)\n",
    "print(type(x1))\n",
    "print(type(y1))"
   ]
  },
  {
   "cell_type": "code",
   "execution_count": 25,
   "id": "5743dd7a",
   "metadata": {},
   "outputs": [
    {
     "data": {
      "text/plain": [
       "0     80000\n",
       "1     30000\n",
       "2     25500\n",
       "3    175000\n",
       "4    120000\n",
       "Name: salary, dtype: int64"
      ]
     },
     "execution_count": 25,
     "metadata": {},
     "output_type": "execute_result"
    }
   ],
   "source": [
    "y1.head()"
   ]
  },
  {
   "cell_type": "markdown",
   "id": "44676369",
   "metadata": {},
   "source": [
    "## Splitting of data into the train and test data "
   ]
  },
  {
   "cell_type": "code",
   "execution_count": 26,
   "id": "fb7c4fe4",
   "metadata": {},
   "outputs": [],
   "source": [
    "from sklearn.model_selection import train_test_split"
   ]
  },
  {
   "cell_type": "code",
   "execution_count": 27,
   "id": "ffe953d3",
   "metadata": {},
   "outputs": [
    {
     "name": "stdout",
     "output_type": "stream",
     "text": [
      "(2584, 10)\n",
      "775.1999999999999\n"
     ]
    }
   ],
   "source": [
    "print(x1.shape)\n",
    "print(0.30*2584)"
   ]
  },
  {
   "cell_type": "code",
   "execution_count": 28,
   "id": "07d5f27f",
   "metadata": {},
   "outputs": [
    {
     "name": "stdout",
     "output_type": "stream",
     "text": [
      "(1808, 10)\n",
      "(776, 10)\n",
      "(1808,)\n",
      "(776,)\n"
     ]
    }
   ],
   "source": [
    "x_train,x_test,y_train,y_test = train_test_split(x1,y1,test_size=0.3)\n",
    "print(x_train.shape)\n",
    "print(x_test.shape)\n",
    "print(y_train.shape)\n",
    "print(y_test.shape)"
   ]
  },
  {
   "cell_type": "markdown",
   "id": "4ca5e460",
   "metadata": {},
   "source": [
    "## applying the linear regression "
   ]
  },
  {
   "cell_type": "code",
   "execution_count": 29,
   "id": "cd713e0c",
   "metadata": {},
   "outputs": [],
   "source": [
    "from sklearn.linear_model import LinearRegression"
   ]
  },
  {
   "cell_type": "code",
   "execution_count": 30,
   "id": "a4d16b57",
   "metadata": {},
   "outputs": [
    {
     "data": {
      "text/plain": [
       "LinearRegression()"
      ]
     },
     "execution_count": 30,
     "metadata": {},
     "output_type": "execute_result"
    }
   ],
   "source": [
    "m1 = LinearRegression()\n",
    "m1.fit(x_train,y_train)"
   ]
  },
  {
   "cell_type": "code",
   "execution_count": 31,
   "id": "42d81a38",
   "metadata": {},
   "outputs": [
    {
     "name": "stdout",
     "output_type": "stream",
     "text": [
      "Train Score 0.028799065346780006\n",
      "Test Score -0.010445111233698734\n"
     ]
    }
   ],
   "source": [
    "print('Train Score',m1.score(x_train,y_train))      \n",
    "print('Test Score',m1.score(x_test,y_test))         "
   ]
  },
  {
   "cell_type": "code",
   "execution_count": 32,
   "id": "1e573084",
   "metadata": {},
   "outputs": [
    {
     "name": "stdout",
     "output_type": "stream",
     "text": [
      "[ 355030.25964522   85027.52514294  198296.07953581  109310.4833428\n",
      "  181001.46621734  630763.2712796   125942.93319446  172783.74477714\n",
      "  102357.54773986  214207.63286656   77923.78552505  503613.78571042\n",
      "  134127.64698103  119124.69088373  451828.903584    177491.01658553\n",
      "  223369.33382499  246470.20419198  249349.46158612  161791.38123688\n",
      "  106298.63340586   45830.82917133  452732.41749173  164410.59631833\n",
      "  130795.60938928  149279.00216612  376799.21319273   72599.64283353\n",
      "  130315.0898827    47593.5293127   221728.59365168   37737.86373177\n",
      "  170833.02833658  330881.13426036  112724.50976777  633625.83434471\n",
      "  109887.17258218   97536.04831469  215150.00049564  315279.43561745\n",
      "  249360.78840402  128688.46149716  161075.69055551  153408.32845315\n",
      "  417120.68830141  191441.47059479  190463.80872446  252100.02855241\n",
      "  463551.79464006  161838.44139212  339941.0393163   236528.71145701\n",
      "  660364.76521358  336894.1146695   149773.3718667   174128.52463922\n",
      "  221971.87252149   85780.40571061  101823.01442242  257647.90223628\n",
      "  121787.78974879  726058.50893044  306399.3555876   155103.93495598\n",
      " 1076928.14419204  105975.57757998   55358.45493132  197269.40022272\n",
      "  164549.07375574  426151.77163565   50133.31666937   94223.39400065\n",
      "   89140.89723212  355293.00918528  253269.99532834  115727.3441093\n",
      "  442300.22139397  379178.22028035  195206.28301594  120815.24527076\n",
      "  176659.96455681  283778.28841606  152129.03610381  272477.05077139\n",
      "  204545.27171925  405557.40435913  197431.82566553  158307.22199994\n",
      "  195249.45640004  790534.14425689  111927.22107244  284981.72444817\n",
      "  119835.08765039  210737.79349861  339790.76633492  202708.04325774\n",
      "  214951.93129361  197186.21049961  -17521.46644229  208310.08414039\n",
      "  100488.86939904  197768.60936117  189966.43205401  465099.87553045\n",
      "  185999.65114206   85027.44322637  116633.23659888  492553.38725007\n",
      "  215124.78602448  542573.05908474  121690.99522501   44955.98159409\n",
      "  210437.20315835  170843.32936612  -11247.36828566   83884.27163032\n",
      "  587384.533373    603084.10110131   62277.08966404   89385.40556291\n",
      "   79095.38517332  196883.37251931  200751.71728206  177224.68641999\n",
      "   72082.71163943  199086.29370859  195801.89130679  247467.05537555\n",
      "   61171.02869195  120254.13461006  377284.13100979  345112.2383562\n",
      "  185206.94122538  186024.84672385  130286.02080351   99145.4898057\n",
      "  196478.65518406   78488.50738823  105260.26321995  200592.21867704\n",
      "  104545.85121846  202287.51371029  460319.67259651   88259.88123959\n",
      "  173949.53756449   46638.59833768  451258.79784769  162897.81466398\n",
      "  170175.47159702  186034.34748548  124311.11642951  416078.89127532\n",
      "  503193.63770038  113821.83062977  345850.65998515  117882.30278474\n",
      "  219205.26697096  364180.81576842  328703.04992253  186617.89341074\n",
      "  100463.17415309   58666.76999089  235803.03614315  172434.35904971\n",
      "  172530.89443734  172092.42646778   98829.76395673  100131.60865468\n",
      "  407768.51028314  263126.64551213  202003.2803497   111061.12111863\n",
      "  374644.14502999  205916.38148287   73634.96624935  320279.38103566\n",
      "  632138.04157507  217157.11397848  490927.64096671  171739.30863038\n",
      "   94543.40305647  223422.75924119  432390.8443065   139508.10337412\n",
      "   81931.28144562  121611.51650393  436506.91806307  163022.32799682\n",
      "  186671.31882694  550080.90653789  435551.98708805  363107.20703065\n",
      "   45281.21644381   65389.02969918  327404.32998943  394522.44116375\n",
      "  229934.98237124   93037.47808799  119564.42612299  210985.15038168\n",
      "  137107.97216359  565921.06484807  224175.72172543  105961.84971023\n",
      "  266298.80534765  257647.49212646  105418.18569374  168556.60225591\n",
      "  191603.72902155  225724.02720669  633712.53320956  202917.22829804\n",
      "   63164.07544425  130230.88752609  152321.04064873  121713.39585891\n",
      "  140757.6496053    73262.4044103   192554.3441579   304773.85707036\n",
      "  227717.23337835   78048.81237751  146365.46637356  111228.39326602\n",
      "  129566.74468344   51923.95913142  164081.885631    682138.78774062\n",
      "  163962.52123666  113832.7660459   228798.87004724   89531.49026203\n",
      "  139763.04233602  281586.96380481  337486.77217621  161502.67515862\n",
      "  103129.73298451  319247.0886001   188741.91296467  221103.11639535\n",
      "  151720.5080103   138513.47485265  208507.23086962  373338.4280588\n",
      "   38878.88423651  170999.01805535  259935.59050399  101479.6735068\n",
      "  191556.66886628  276614.48935372  214910.28134686   95782.8538726\n",
      "  377477.6722998   243948.08271122  170886.78413448  356577.64303783\n",
      "  171827.98723978   79470.42550212  137155.09561092  178972.27742571\n",
      "   74387.92873359   68297.81860518  376087.14099637  509489.89003909\n",
      "   47967.83153099   50608.70742622  520175.24028698  308418.46141556\n",
      "  174328.73263651  126397.95824096  638384.84400815  139553.69644898\n",
      "  401690.05356708  298042.84892049  175419.80541369  754834.94206426\n",
      "  178739.13442099  231278.36196461  118211.2179487    67378.51530626\n",
      "  329383.6687848   286760.38885194  144552.95201847  115898.90507981\n",
      "  252950.28771883  171461.98722225   49285.51587838  174137.54023463\n",
      "  462349.30856416   74470.48008391   57530.58468226  348211.61873472\n",
      "  135178.5690898    85081.40195668   70145.16466856  174076.26078469\n",
      "  101491.13496011   78529.22239685  108785.4590261    88448.17174661\n",
      "  140524.60272783  148768.63957161  200619.94884732  534833.47943956\n",
      "  146303.58979431  124126.05986899  313320.46804583  174437.83622983\n",
      "  177130.56610945  284124.41734916  181942.66932261   93489.25557855\n",
      "   43398.81023321   23911.98655072  185789.6346781   137341.46540874\n",
      "  106644.51630664  384285.71033004  528284.3585147   127106.09321657\n",
      "  211133.69345626   93573.56742239  208955.74947062   72511.36174673\n",
      "  433669.58087748  184054.77419424  119915.30149215   87272.60280934\n",
      "   80119.45920914  115250.19297945  203717.0129866   275786.56093344\n",
      "  -26641.32809687  178177.85690147  171559.41664302   97300.73171932\n",
      "  256504.15222272  222858.03737804   58385.7154502    69779.95292073\n",
      "  339490.35492387  369568.13106826  561035.29005066  461429.7305606\n",
      "  121487.50711364  478204.56563631  191354.7003755   587336.86228225\n",
      "  106580.99433747  201196.63808668  544792.53117481   95134.4586522\n",
      "  431410.69342479  371736.33335754  136721.14639431  177152.18346763\n",
      "  340376.43399566  178702.7717309   447082.18346193  159247.707109\n",
      "  601941.63157445   96589.18217173   44869.21137476  129981.18225035\n",
      "  159958.94358125  149831.75665307  340615.72661847   98445.95273766\n",
      "  288600.75860509  801709.16583329   65151.15346339  318856.99523434\n",
      "  382633.54549611  132317.31164974   83711.60382465  220013.7005972\n",
      "  127647.07342428  236411.65018046   84808.15659845  345137.06177315\n",
      "  186662.4127188   756822.88814399  158114.3439796   109081.54782742\n",
      "   59018.43102214  604673.77896154  256137.45076209  620814.21512058\n",
      "  222105.0748938   117503.56764376  357091.21303928  175806.22955278\n",
      "  197580.36874011  146056.93128866  176923.50142628  719061.72104937\n",
      "   81354.27262601  176914.32734615  291277.59195352   81074.39018416\n",
      "  192592.38871777  313585.37544057  238392.29360551  -43165.33279625\n",
      "  143573.19843042  179509.92755961  182561.54597789  168954.79584554\n",
      "  334531.82625282  167175.58903632  117430.52529421  161586.98700249\n",
      "  126971.90778998  101909.04161036  177601.16766208    7349.21005696\n",
      "  123063.31817427  217850.83685791  380366.92217469  197081.02517143\n",
      "  124423.1584436    62625.04882702  330166.96828955  318260.92734668\n",
      "  338265.87243402  335143.0897868   149954.55548427  128750.96600416\n",
      "   77969.00461298  248619.03809044  179922.33394524  670974.56043983\n",
      "  119605.10090306  196855.13642615  114593.18810862  175193.73713481\n",
      "  306722.72203025  154349.53155845  255360.40220919  216228.2027044\n",
      "  108539.98454922  127308.24030638  146810.9371126    35114.07181534\n",
      "  103535.77948317  165985.10183054  149408.65768319  173669.89046282\n",
      "  103042.07066157  203064.61854562   73080.41951758   52883.88363567\n",
      "  203884.17564669  179462.13439626  181497.74851799  374112.15089023\n",
      "  463884.84083971  119369.27923805  102941.92665118  363537.94838759\n",
      "  680914.99958336  370879.33260885  103955.43410933  -47255.98704669\n",
      "  386583.21769002  371885.93783534  146717.94375151  124077.56362912\n",
      "  223903.16926053  650093.40626159  449512.67439333  138002.17840567\n",
      "  181271.85977271  286065.97668377  108799.18689582  124186.12980559\n",
      "   99826.1078223   178125.19463095  113016.67916605  323717.5229643\n",
      "  110383.45488283  441302.78260174  662457.88542104  197307.81627524\n",
      "   46352.33991748  180767.91341698  140541.55596671   59412.99089283\n",
      "  101131.82479346  122993.43208212  494936.34458503  115315.55225149\n",
      "  154041.28540227  214664.95307705   82943.06852502  198450.47568962\n",
      "  183867.32644445  104112.78830275  177855.53045145  189925.6276724\n",
      "  103230.31128263  168753.85847241  362720.76150709  359584.89534539\n",
      "  105034.37447467  179535.23879534  -71480.83948621  361706.49416474\n",
      "  125901.3532418   150802.54063758  151385.18420431  115011.12739071\n",
      "   60510.99143341  208963.06298813   44472.96553829   86561.79624704\n",
      "   48385.26988721  120075.70245573  359154.98868707  172189.2498067\n",
      "  111670.36228985  248355.30993667  175751.10890678  609877.97358766\n",
      "   44659.63847622  139931.64477152  581900.92338011  429420.5621281\n",
      "  221239.16803694  313338.45795843  182197.03211197   74851.180195\n",
      "  156191.22276041  103168.96479455  125252.31953481  109928.63062218\n",
      "  273915.52709398   54401.89595872  227584.75937277  195237.16944361\n",
      "  109251.86674491  232946.83230817  190097.29813018  111930.12947214\n",
      "  305223.62271303  135329.16158664  382450.79955488  333719.36033973\n",
      "  150397.91942957   83329.35823381  191781.49307185  198737.54263672\n",
      "  136962.83872029  189472.29416493  450316.89708522  168189.13660923\n",
      "  397800.03803584  412254.07784694  113217.20674354  219093.22495687\n",
      "  196102.17394194  395523.39937389  110168.2021338   265560.69398561\n",
      "   66958.76934847  125390.05679482  410190.27505469  222859.05484021\n",
      "  339217.43649182  110734.5635775   163521.05813575   82956.79639474\n",
      "  523185.12573481  395475.86899427  537370.35414058  114081.89166164\n",
      "   62060.32696384  341126.74286944  194371.26258674  181762.95173413\n",
      "  148826.99416414  607108.99266416  153895.54616094  271198.10045418\n",
      "   88590.28715673  173529.15242451  421506.98285833  693961.9987253\n",
      "  102251.46005315  241417.61571828  592493.81012288  136231.81420919\n",
      "  117947.68107921  129589.00696272  195698.9799917   262223.09053108\n",
      "   77171.84050298   33324.01760361  158302.58460066  199471.68105885\n",
      "   88530.9726769    77401.21958381  113948.07380465  181293.63561565\n",
      "  123670.19595936  152655.36596894  376769.24110663  355390.17626593\n",
      "  687360.79658043  625941.30369177  200426.07347912  276544.06505144\n",
      "  426139.9560352    82138.34612876  110681.59310639  108310.66363963\n",
      "  264847.55424955   47054.03901574  344935.95937178   66481.82264918\n",
      " -176911.57008031  172048.06934088  213558.95069778  171182.16248402\n",
      "   64411.17581755  116893.53360128  423826.94528437  312872.55502456\n",
      "  192813.57144749  121034.82726455  125013.5755527   209696.36709496\n",
      "  519710.40512344  127322.96636644  271982.93730482  385587.79629728\n",
      "  208757.91250229  198427.84797055   64958.30337554  331888.8878541\n",
      "   59869.14657953  435947.38193658  199434.9352932   140185.76960993\n",
      "   80170.93589121  105169.18967953  342694.24076274  171940.22116065\n",
      "  384646.59319198  445918.94911596  366584.01130158   76527.14198259\n",
      "  742464.79480371  107320.76750672  104006.40115008  137625.69716355\n",
      "  203227.58737186  353879.1907424   285616.63883841  198352.55172211\n",
      "  107281.99243307  367832.44432503  115753.41575104  603683.7675781\n",
      "  150876.93452746  174965.7989673   322386.33648026  135635.75097328\n",
      "   77177.24460644  203815.83931264  452524.51054141  192208.12987339\n",
      "   63780.04369983   99010.67460084   52956.92598522  208726.26292899\n",
      "  171229.41459835  112138.70994362  436157.28674448  359043.81587023\n",
      "  166963.09408262  131978.47853184  104458.38311723  168570.71404371\n",
      "  205486.47482455  237729.04644156  432059.43904555  267485.31344172\n",
      "  108552.50159609  719738.17027861  455521.20723557  188909.02707058\n",
      "  127507.32135421  292021.90245113  257809.25131008  192346.21493503\n",
      "  220302.36992186   98884.90471703   75705.61308098  105491.76033929\n",
      "  523294.90428847  212923.62056825  721415.31479228  251239.65363517\n",
      "  653213.86939779  237994.59931123  317026.06876352  126904.9377574\n",
      "  151689.85953358  526831.20911047  198523.62126768  108331.63211331\n",
      "  118512.40294239   83950.55228329  259747.29693609  108959.69734663\n",
      "  554920.92885867   59544.62972602  242495.03840417  364867.60011122\n",
      "  482037.35770607  194672.44758046  116480.30659351  392388.52786344\n",
      "   53213.01777413  115978.8186132   176090.66484961  117111.64318782\n",
      "  135501.39071351  -49713.07975319  182758.96067905  175915.52510512\n",
      "  126181.46027452  104243.42978805   93310.03055289  104416.22719529\n",
      "  119497.56092337  176309.17856064  562012.82561609  119729.11029336\n",
      "  124291.39000887   82001.86541972   94895.86905476  183678.29295215\n",
      "  267448.08247855  376499.27973938  134396.02572635  110912.09913665\n",
      "  170902.59484851   72882.00376514  244988.58592907  296420.56991464\n",
      "  105733.91154271  537403.80761856  193166.52261198   73755.16572389\n",
      "   80697.90894204  156026.53859004  423984.99735972  408713.84232953\n",
      "   91220.72667521  415859.76422659  660732.87094387  193978.10169411\n",
      "  135809.98929381  149985.34692261  102947.95035106  286412.95337245\n",
      "  221611.88446662  292032.19688633  243702.2429544   185918.3036488\n",
      "  200236.87780562  148620.63505179  193721.43600845  508401.18834695]\n"
     ]
    }
   ],
   "source": [
    "ypred_m1 = m1.predict(x_test)\n",
    "print(ypred_m1)"
   ]
  },
  {
   "cell_type": "code",
   "execution_count": 33,
   "id": "84c683e6",
   "metadata": {},
   "outputs": [],
   "source": [
    "from sklearn.metrics import mean_squared_error,mean_absolute_error,r2_score"
   ]
  },
  {
   "cell_type": "code",
   "execution_count": 35,
   "id": "e8e0ac40",
   "metadata": {},
   "outputs": [],
   "source": [
    "def eval_model(ytest,ypred):\n",
    "    mae = mean_absolute_error(ytest,ypred)\n",
    "    mse = mean_squared_error(ytest,ypred)\n",
    "    rmse = np.sqrt(mean_squared_error(ytest,ypred))\n",
    "    r2s = r2_score(ytest,ypred)\n",
    "    print('MAE',mae)\n",
    "    print('MSE',mse)\n",
    "    print('RMSE',rmse)\n",
    "    print('R2_Score',r2s)"
   ]
  },
  {
   "cell_type": "code",
   "execution_count": 36,
   "id": "e59a1fb3",
   "metadata": {},
   "outputs": [
    {
     "name": "stdout",
     "output_type": "stream",
     "text": [
      "MAE 184094.16107451663\n",
      "MSE 297155032632.7359\n",
      "RMSE 545119.2829397396\n",
      "R2_Score -0.010445111233698734\n"
     ]
    }
   ],
   "source": [
    "eval_model(y_test,ypred_m1)"
   ]
  },
  {
   "cell_type": "markdown",
   "id": "d256c220",
   "metadata": {},
   "source": [
    "## Logistic Regression"
   ]
  },
  {
   "cell_type": "code",
   "execution_count": 37,
   "id": "19fbff44",
   "metadata": {},
   "outputs": [
    {
     "data": {
      "text/html": [
       "<div>\n",
       "<style scoped>\n",
       "    .dataframe tbody tr th:only-of-type {\n",
       "        vertical-align: middle;\n",
       "    }\n",
       "\n",
       "    .dataframe tbody tr th {\n",
       "        vertical-align: top;\n",
       "    }\n",
       "\n",
       "    .dataframe thead th {\n",
       "        text-align: right;\n",
       "    }\n",
       "</style>\n",
       "<table border=\"1\" class=\"dataframe\">\n",
       "  <thead>\n",
       "    <tr style=\"text-align: right;\">\n",
       "      <th></th>\n",
       "      <th>work_year</th>\n",
       "      <th>experience_level</th>\n",
       "      <th>employment_type</th>\n",
       "      <th>job_title</th>\n",
       "      <th>salary</th>\n",
       "      <th>salary_currency</th>\n",
       "      <th>salary_in_usd</th>\n",
       "      <th>employee_residence</th>\n",
       "      <th>remote_ratio</th>\n",
       "      <th>company_location</th>\n",
       "      <th>company_size</th>\n",
       "    </tr>\n",
       "  </thead>\n",
       "  <tbody>\n",
       "    <tr>\n",
       "      <th>0</th>\n",
       "      <td>2023</td>\n",
       "      <td>3</td>\n",
       "      <td>2</td>\n",
       "      <td>84</td>\n",
       "      <td>80000</td>\n",
       "      <td>7</td>\n",
       "      <td>85847</td>\n",
       "      <td>26</td>\n",
       "      <td>100</td>\n",
       "      <td>25</td>\n",
       "      <td>0</td>\n",
       "    </tr>\n",
       "    <tr>\n",
       "      <th>1</th>\n",
       "      <td>2023</td>\n",
       "      <td>2</td>\n",
       "      <td>0</td>\n",
       "      <td>66</td>\n",
       "      <td>30000</td>\n",
       "      <td>19</td>\n",
       "      <td>30000</td>\n",
       "      <td>75</td>\n",
       "      <td>100</td>\n",
       "      <td>70</td>\n",
       "      <td>2</td>\n",
       "    </tr>\n",
       "    <tr>\n",
       "      <th>2</th>\n",
       "      <td>2023</td>\n",
       "      <td>2</td>\n",
       "      <td>0</td>\n",
       "      <td>66</td>\n",
       "      <td>25500</td>\n",
       "      <td>19</td>\n",
       "      <td>25500</td>\n",
       "      <td>75</td>\n",
       "      <td>100</td>\n",
       "      <td>70</td>\n",
       "      <td>2</td>\n",
       "    </tr>\n",
       "    <tr>\n",
       "      <th>3</th>\n",
       "      <td>2023</td>\n",
       "      <td>3</td>\n",
       "      <td>2</td>\n",
       "      <td>47</td>\n",
       "      <td>175000</td>\n",
       "      <td>19</td>\n",
       "      <td>175000</td>\n",
       "      <td>11</td>\n",
       "      <td>100</td>\n",
       "      <td>12</td>\n",
       "      <td>1</td>\n",
       "    </tr>\n",
       "    <tr>\n",
       "      <th>4</th>\n",
       "      <td>2023</td>\n",
       "      <td>3</td>\n",
       "      <td>2</td>\n",
       "      <td>47</td>\n",
       "      <td>120000</td>\n",
       "      <td>19</td>\n",
       "      <td>120000</td>\n",
       "      <td>11</td>\n",
       "      <td>100</td>\n",
       "      <td>12</td>\n",
       "      <td>1</td>\n",
       "    </tr>\n",
       "  </tbody>\n",
       "</table>\n",
       "</div>"
      ],
      "text/plain": [
       "   work_year  experience_level  employment_type  job_title  salary  \\\n",
       "0       2023                 3                2         84   80000   \n",
       "1       2023                 2                0         66   30000   \n",
       "2       2023                 2                0         66   25500   \n",
       "3       2023                 3                2         47  175000   \n",
       "4       2023                 3                2         47  120000   \n",
       "\n",
       "   salary_currency  salary_in_usd  employee_residence  remote_ratio  \\\n",
       "0                7          85847                  26           100   \n",
       "1               19          30000                  75           100   \n",
       "2               19          25500                  75           100   \n",
       "3               19         175000                  11           100   \n",
       "4               19         120000                  11           100   \n",
       "\n",
       "   company_location  company_size  \n",
       "0                25             0  \n",
       "1                70             2  \n",
       "2                70             2  \n",
       "3                12             1  \n",
       "4                12             1  "
      ]
     },
     "execution_count": 37,
     "metadata": {},
     "output_type": "execute_result"
    }
   ],
   "source": [
    "df1.head()"
   ]
  },
  {
   "cell_type": "code",
   "execution_count": 38,
   "id": "58c76ea0",
   "metadata": {},
   "outputs": [
    {
     "data": {
      "text/plain": [
       "work_year             0\n",
       "experience_level      0\n",
       "employment_type       0\n",
       "job_title             0\n",
       "salary                0\n",
       "salary_currency       0\n",
       "salary_in_usd         0\n",
       "employee_residence    0\n",
       "remote_ratio          0\n",
       "company_location      0\n",
       "company_size          0\n",
       "dtype: int64"
      ]
     },
     "execution_count": 38,
     "metadata": {},
     "output_type": "execute_result"
    }
   ],
   "source": [
    "df1.isnull().sum()    # handling null values"
   ]
  },
  {
   "cell_type": "code",
   "execution_count": 39,
   "id": "bfa76e51",
   "metadata": {},
   "outputs": [
    {
     "data": {
      "text/plain": [
       "work_year             int64\n",
       "experience_level      int32\n",
       "employment_type       int32\n",
       "job_title             int32\n",
       "salary                int64\n",
       "salary_currency       int32\n",
       "salary_in_usd         int64\n",
       "employee_residence    int32\n",
       "remote_ratio          int64\n",
       "company_location      int32\n",
       "company_size          int32\n",
       "dtype: object"
      ]
     },
     "execution_count": 39,
     "metadata": {},
     "output_type": "execute_result"
    }
   ],
   "source": [
    "df1.dtypes"
   ]
  },
  {
   "cell_type": "code",
   "execution_count": 40,
   "id": "e1efd202",
   "metadata": {},
   "outputs": [
    {
     "name": "stdout",
     "output_type": "stream",
     "text": [
      "(2584, 11)\n"
     ]
    }
   ],
   "source": [
    "print(df1.shape)"
   ]
  },
  {
   "cell_type": "markdown",
   "id": "525247aa",
   "metadata": {},
   "source": [
    "#### selecting x and y"
   ]
  },
  {
   "cell_type": "code",
   "execution_count": 41,
   "id": "f6091cf7",
   "metadata": {},
   "outputs": [
    {
     "name": "stdout",
     "output_type": "stream",
     "text": [
      "(2584, 10)\n",
      "(2584,)\n",
      "<class 'pandas.core.frame.DataFrame'>\n",
      "<class 'pandas.core.series.Series'>\n"
     ]
    }
   ],
   "source": [
    "x1 = df1.drop(['salary'],axis=1)\n",
    "y1 = df1['salary']\n",
    "print(x1.shape)\n",
    "print(y1.shape)\n",
    "print(type(x1))\n",
    "print(type(y1))"
   ]
  },
  {
   "cell_type": "markdown",
   "id": "8d16ff52",
   "metadata": {},
   "source": [
    "#### splitting the data into train and test data"
   ]
  },
  {
   "cell_type": "code",
   "execution_count": 42,
   "id": "0371ad52",
   "metadata": {},
   "outputs": [],
   "source": [
    "from sklearn.model_selection import train_test_split"
   ]
  },
  {
   "cell_type": "code",
   "execution_count": 43,
   "id": "78fce57c",
   "metadata": {},
   "outputs": [
    {
     "name": "stdout",
     "output_type": "stream",
     "text": [
      "(2584, 10)\n",
      "775.1999999999999\n"
     ]
    }
   ],
   "source": [
    "print(x1.shape)\n",
    "print(0.30*2584)"
   ]
  },
  {
   "cell_type": "code",
   "execution_count": 44,
   "id": "c51f5d2c",
   "metadata": {},
   "outputs": [
    {
     "name": "stdout",
     "output_type": "stream",
     "text": [
      "(1808, 10)\n",
      "(776, 10)\n",
      "(1808,)\n",
      "(776,)\n"
     ]
    }
   ],
   "source": [
    "x_train,x_test,y_train,y_test = train_test_split(x1,y1,test_size=0.3,random_state=42)\n",
    "print(x_train.shape)\n",
    "print(x_test.shape)\n",
    "print(y_train.shape)\n",
    "print(y_test.shape)"
   ]
  },
  {
   "cell_type": "code",
   "execution_count": 45,
   "id": "e32f039f",
   "metadata": {},
   "outputs": [],
   "source": [
    "from sklearn.linear_model import LogisticRegression"
   ]
  },
  {
   "cell_type": "code",
   "execution_count": 47,
   "id": "187364d3",
   "metadata": {},
   "outputs": [
    {
     "name": "stderr",
     "output_type": "stream",
     "text": [
      "C:\\Users\\Kavitha Ooha\\Anaconda3\\lib\\site-packages\\sklearn\\linear_model\\_logistic.py:763: ConvergenceWarning: lbfgs failed to converge (status=1):\n",
      "STOP: TOTAL NO. of ITERATIONS REACHED LIMIT.\n",
      "\n",
      "Increase the number of iterations (max_iter) or scale the data as shown in:\n",
      "    https://scikit-learn.org/stable/modules/preprocessing.html\n",
      "Please also refer to the documentation for alternative solver options:\n",
      "    https://scikit-learn.org/stable/modules/linear_model.html#logistic-regression\n",
      "  n_iter_i = _check_optimize_result(\n"
     ]
    },
    {
     "data": {
      "text/plain": [
       "LogisticRegression()"
      ]
     },
     "execution_count": 47,
     "metadata": {},
     "output_type": "execute_result"
    }
   ],
   "source": [
    "model = LogisticRegression()\n",
    "model.fit(x_train,y_train)"
   ]
  },
  {
   "cell_type": "code",
   "execution_count": 48,
   "id": "6c72966d",
   "metadata": {},
   "outputs": [
    {
     "name": "stdout",
     "output_type": "stream",
     "text": [
      "Train Score 0.07300884955752213\n",
      "Test Score 0.05412371134020619\n"
     ]
    }
   ],
   "source": [
    "print('Train Score', model.score(x_train,y_train)) # Train Accuracy\n",
    "print('Test Score', model.score(x_test,y_test))  # Test Accuracy"
   ]
  },
  {
   "cell_type": "code",
   "execution_count": 50,
   "id": "34dc8ead",
   "metadata": {},
   "outputs": [
    {
     "name": "stdout",
     "output_type": "stream",
     "text": [
      "[100000 100000 200000 100000 100000 200000 150000 100000 200000 100000\n",
      " 200000 150000 100000 150000 100000 100000 100000 100000 200000 100000\n",
      " 100000 200000 100000 100000 200000 100000 100000 150000 100000 150000\n",
      " 200000 100000 100000 150000 100000 100000 100000 100000 150000 100000\n",
      " 200000 100000 100000 100000 100000 150000 150000 150000 100000 200000\n",
      " 100000 150000 150000 100000 150000 100000 150000 150000 150000 150000\n",
      " 100000 150000 100000 100000 100000 200000 100000 100000 100000 100000\n",
      " 100000 150000 150000 150000 150000 200000 150000 100000 150000 100000\n",
      " 200000 150000 100000 150000 200000 100000 100000 200000 200000 100000\n",
      " 150000 100000 150000 150000 100000 100000 100000 100000 150000 100000\n",
      " 150000 200000 100000 100000 200000 100000 100000 100000 100000 150000\n",
      " 150000 100000 100000 200000 100000 200000 100000 100000 100000 200000\n",
      " 100000 100000 100000 100000 200000 100000 150000 200000 100000 150000\n",
      " 150000 150000 200000 100000 200000 200000 150000 150000 100000 150000\n",
      " 150000 150000 100000 200000 100000 200000 100000 200000 100000 150000\n",
      " 100000 150000 100000 100000 100000 150000 100000 150000 150000 150000\n",
      " 100000 150000 200000 100000 150000 150000 100000 100000 200000 150000\n",
      " 200000 100000 100000 200000 150000 100000 100000 150000 200000 100000\n",
      " 100000 100000 100000 200000 100000 100000 100000 100000 100000 100000\n",
      " 100000 100000 100000 150000 100000 100000 100000 100000 100000 100000\n",
      " 100000 100000 100000 150000 200000 100000 100000 200000 200000 100000\n",
      " 100000 100000 150000 150000 100000 150000 150000 150000 100000 150000\n",
      " 100000 150000 100000 150000 200000 200000 100000 100000 150000 200000\n",
      " 100000 100000 150000 150000 200000 150000 100000 100000 100000 150000\n",
      " 100000 150000 100000 150000 100000 100000 200000 100000 150000 100000\n",
      " 150000 100000 100000 150000 100000 100000 100000 150000 150000 100000\n",
      " 150000 100000 150000 100000 200000 100000 100000 150000 200000 200000\n",
      " 150000 150000 100000 100000 100000 100000 100000 100000 150000 150000\n",
      " 200000 100000 100000 200000 100000 200000 100000 150000 100000 100000\n",
      " 150000 150000 200000 150000 100000 150000 100000 100000 100000 100000\n",
      " 200000 100000 100000 100000 100000 100000 100000 100000 200000 200000\n",
      " 150000 100000 100000 200000 100000 150000 150000 150000 200000 200000\n",
      " 100000 150000 200000 100000 150000 100000 150000 100000 100000 100000\n",
      " 200000 100000 100000 100000 100000 100000 150000 100000 200000 100000\n",
      " 150000 100000 150000 100000 100000 150000 100000 200000 100000 100000\n",
      " 200000 150000 200000 100000 100000 200000 100000 100000 100000 200000\n",
      " 100000 200000 100000 100000 150000 200000 100000 100000 150000 200000\n",
      " 100000 100000 100000 150000 100000 200000 100000 100000 200000 100000\n",
      " 150000 100000 150000 100000 100000 100000 150000 150000 100000 100000\n",
      " 100000 100000 150000 100000 100000 150000 100000 150000 100000 150000\n",
      " 200000 150000 100000 200000 100000 200000 200000 150000 100000 100000\n",
      " 100000 150000 100000 100000 150000 150000 100000 100000 100000 150000\n",
      " 100000 100000 200000 100000 150000 150000 100000 100000 100000 150000\n",
      " 100000 100000 100000 150000 100000 150000 100000 150000 100000 100000\n",
      " 100000 100000 150000 100000 100000 100000 150000 100000 150000 100000\n",
      " 100000 100000 100000 150000 150000 200000 200000 100000 100000 150000\n",
      " 100000 100000 200000 150000 150000 100000 200000 200000 100000 100000\n",
      " 150000 200000 200000 150000 150000 200000 150000 100000 150000 100000\n",
      " 100000 150000 100000 200000 150000 150000 200000 100000 100000 100000\n",
      " 150000 100000 150000 100000 100000 200000 200000 100000 100000 100000\n",
      " 100000 100000 100000 150000 100000 150000 200000 100000 200000 200000\n",
      " 100000 100000 200000 200000 100000 100000 150000 200000 100000 150000\n",
      " 200000 150000 100000 100000 150000 100000 100000 150000 100000 150000\n",
      " 150000 100000 100000 100000 100000 150000 150000 100000 200000 100000\n",
      " 100000 150000 100000 150000 100000 100000 100000 100000 100000 150000\n",
      " 150000 100000 100000 100000 200000 100000 100000 150000 150000 150000\n",
      " 100000 100000 100000 100000 200000 100000 150000 150000 200000 100000\n",
      " 100000 100000 100000 100000 100000 150000 100000 100000 100000 150000\n",
      " 150000 100000 150000 200000 150000 200000 100000 100000 100000 150000\n",
      " 100000 150000 100000 100000 100000 100000 200000 100000 150000 150000\n",
      " 150000 200000 200000 150000 100000 100000 100000 100000 100000 100000\n",
      " 100000 150000 200000 150000 100000 200000 150000 100000 200000 150000\n",
      " 150000 200000 100000 200000 100000 100000 100000 100000 100000 200000\n",
      " 100000 150000 150000 100000 150000 100000 200000 100000 100000 150000\n",
      " 100000 100000 150000 100000 150000 200000 100000 100000 100000 150000\n",
      " 200000 100000 200000 200000 100000 100000 150000 100000 150000 150000\n",
      " 150000 200000 150000 150000 100000 100000 100000 100000 100000 150000\n",
      " 100000 150000 150000 100000 150000 100000 100000 200000 150000 150000\n",
      " 150000 100000 100000 100000 100000 100000 100000 100000 150000 100000\n",
      " 100000 200000 200000 100000 100000 150000 200000 100000 200000 100000\n",
      " 100000 100000 150000 100000 100000 150000 100000 100000 100000 200000\n",
      " 150000 100000 150000 100000 150000 200000 100000 100000 150000 150000\n",
      " 200000 150000 150000 150000 200000 100000 200000 150000 150000 150000\n",
      " 100000 100000 150000 100000 200000 100000 100000 200000 150000 150000\n",
      " 200000 100000 100000 200000 100000 200000 100000 100000 100000 150000\n",
      " 100000 100000 100000 100000 100000 150000 200000 150000 100000 150000\n",
      " 100000 100000 150000 150000 150000 150000 100000 100000 100000 200000\n",
      " 150000 150000 100000 200000 150000 100000]\n"
     ]
    }
   ],
   "source": [
    "ypred_model = model.predict(x_test)\n",
    "print(ypred_model)"
   ]
  },
  {
   "cell_type": "markdown",
   "id": "c2e2631e",
   "metadata": {},
   "source": [
    "## KNN Classification"
   ]
  },
  {
   "cell_type": "code",
   "execution_count": 51,
   "id": "7b5efe44",
   "metadata": {},
   "outputs": [],
   "source": [
    "import pandas as pd\n",
    "import numpy as np\n",
    "import matplotlib.pyplot as plt\n",
    "import seaborn as sns"
   ]
  },
  {
   "cell_type": "code",
   "execution_count": 52,
   "id": "3a470c72",
   "metadata": {},
   "outputs": [
    {
     "data": {
      "text/html": [
       "<div>\n",
       "<style scoped>\n",
       "    .dataframe tbody tr th:only-of-type {\n",
       "        vertical-align: middle;\n",
       "    }\n",
       "\n",
       "    .dataframe tbody tr th {\n",
       "        vertical-align: top;\n",
       "    }\n",
       "\n",
       "    .dataframe thead th {\n",
       "        text-align: right;\n",
       "    }\n",
       "</style>\n",
       "<table border=\"1\" class=\"dataframe\">\n",
       "  <thead>\n",
       "    <tr style=\"text-align: right;\">\n",
       "      <th></th>\n",
       "      <th>work_year</th>\n",
       "      <th>experience_level</th>\n",
       "      <th>employment_type</th>\n",
       "      <th>job_title</th>\n",
       "      <th>salary</th>\n",
       "      <th>salary_currency</th>\n",
       "      <th>salary_in_usd</th>\n",
       "      <th>employee_residence</th>\n",
       "      <th>remote_ratio</th>\n",
       "      <th>company_location</th>\n",
       "      <th>company_size</th>\n",
       "    </tr>\n",
       "  </thead>\n",
       "  <tbody>\n",
       "    <tr>\n",
       "      <th>0</th>\n",
       "      <td>2023</td>\n",
       "      <td>3</td>\n",
       "      <td>2</td>\n",
       "      <td>84</td>\n",
       "      <td>80000</td>\n",
       "      <td>7</td>\n",
       "      <td>85847</td>\n",
       "      <td>26</td>\n",
       "      <td>100</td>\n",
       "      <td>25</td>\n",
       "      <td>0</td>\n",
       "    </tr>\n",
       "    <tr>\n",
       "      <th>1</th>\n",
       "      <td>2023</td>\n",
       "      <td>2</td>\n",
       "      <td>0</td>\n",
       "      <td>66</td>\n",
       "      <td>30000</td>\n",
       "      <td>19</td>\n",
       "      <td>30000</td>\n",
       "      <td>75</td>\n",
       "      <td>100</td>\n",
       "      <td>70</td>\n",
       "      <td>2</td>\n",
       "    </tr>\n",
       "    <tr>\n",
       "      <th>2</th>\n",
       "      <td>2023</td>\n",
       "      <td>2</td>\n",
       "      <td>0</td>\n",
       "      <td>66</td>\n",
       "      <td>25500</td>\n",
       "      <td>19</td>\n",
       "      <td>25500</td>\n",
       "      <td>75</td>\n",
       "      <td>100</td>\n",
       "      <td>70</td>\n",
       "      <td>2</td>\n",
       "    </tr>\n",
       "    <tr>\n",
       "      <th>3</th>\n",
       "      <td>2023</td>\n",
       "      <td>3</td>\n",
       "      <td>2</td>\n",
       "      <td>47</td>\n",
       "      <td>175000</td>\n",
       "      <td>19</td>\n",
       "      <td>175000</td>\n",
       "      <td>11</td>\n",
       "      <td>100</td>\n",
       "      <td>12</td>\n",
       "      <td>1</td>\n",
       "    </tr>\n",
       "    <tr>\n",
       "      <th>4</th>\n",
       "      <td>2023</td>\n",
       "      <td>3</td>\n",
       "      <td>2</td>\n",
       "      <td>47</td>\n",
       "      <td>120000</td>\n",
       "      <td>19</td>\n",
       "      <td>120000</td>\n",
       "      <td>11</td>\n",
       "      <td>100</td>\n",
       "      <td>12</td>\n",
       "      <td>1</td>\n",
       "    </tr>\n",
       "  </tbody>\n",
       "</table>\n",
       "</div>"
      ],
      "text/plain": [
       "   work_year  experience_level  employment_type  job_title  salary  \\\n",
       "0       2023                 3                2         84   80000   \n",
       "1       2023                 2                0         66   30000   \n",
       "2       2023                 2                0         66   25500   \n",
       "3       2023                 3                2         47  175000   \n",
       "4       2023                 3                2         47  120000   \n",
       "\n",
       "   salary_currency  salary_in_usd  employee_residence  remote_ratio  \\\n",
       "0                7          85847                  26           100   \n",
       "1               19          30000                  75           100   \n",
       "2               19          25500                  75           100   \n",
       "3               19         175000                  11           100   \n",
       "4               19         120000                  11           100   \n",
       "\n",
       "   company_location  company_size  \n",
       "0                25             0  \n",
       "1                70             2  \n",
       "2                70             2  \n",
       "3                12             1  \n",
       "4                12             1  "
      ]
     },
     "execution_count": 52,
     "metadata": {},
     "output_type": "execute_result"
    }
   ],
   "source": [
    "df1.head()"
   ]
  },
  {
   "cell_type": "code",
   "execution_count": 53,
   "id": "cf0ae0d4",
   "metadata": {},
   "outputs": [
    {
     "data": {
      "text/plain": [
       "(2584, 11)"
      ]
     },
     "execution_count": 53,
     "metadata": {},
     "output_type": "execute_result"
    }
   ],
   "source": [
    "df1.shape"
   ]
  },
  {
   "cell_type": "code",
   "execution_count": 54,
   "id": "0ed9783e",
   "metadata": {},
   "outputs": [
    {
     "data": {
      "text/plain": [
       "work_year             0\n",
       "experience_level      0\n",
       "employment_type       0\n",
       "job_title             0\n",
       "salary                0\n",
       "salary_currency       0\n",
       "salary_in_usd         0\n",
       "employee_residence    0\n",
       "remote_ratio          0\n",
       "company_location      0\n",
       "company_size          0\n",
       "dtype: int64"
      ]
     },
     "execution_count": 54,
     "metadata": {},
     "output_type": "execute_result"
    }
   ],
   "source": [
    "df1.isnull().sum()"
   ]
  },
  {
   "cell_type": "code",
   "execution_count": 55,
   "id": "d1394873",
   "metadata": {},
   "outputs": [
    {
     "data": {
      "text/plain": [
       "0"
      ]
     },
     "execution_count": 55,
     "metadata": {},
     "output_type": "execute_result"
    }
   ],
   "source": [
    "df1.duplicated().sum()"
   ]
  },
  {
   "cell_type": "code",
   "execution_count": 56,
   "id": "07ee5586",
   "metadata": {},
   "outputs": [
    {
     "data": {
      "text/plain": [
       "19    2107\n",
       "7      200\n",
       "8      144\n",
       "12      59\n",
       "2       25\n",
       "0        9\n",
       "16       6\n",
       "1        6\n",
       "15       5\n",
       "3        4\n",
       "10       3\n",
       "18       3\n",
       "6        3\n",
       "13       3\n",
       "17       2\n",
       "14       1\n",
       "5        1\n",
       "4        1\n",
       "9        1\n",
       "11       1\n",
       "Name: salary_currency, dtype: int64"
      ]
     },
     "execution_count": 56,
     "metadata": {},
     "output_type": "execute_result"
    }
   ],
   "source": [
    "df1['salary_currency'].value_counts()"
   ]
  },
  {
   "cell_type": "code",
   "execution_count": 57,
   "id": "f7f27f4c",
   "metadata": {},
   "outputs": [
    {
     "data": {
      "image/png": "[encoded data removed]",
      "text/plain": [
       "<Figure size 432x288 with 1 Axes>"
      ]
     },
     "metadata": {
      "needs_background": "light"
     },
     "output_type": "display_data"
    }
   ],
   "source": [
    "plt.scatter(df1['employment_type'],df1['experience_level'])\n",
    "plt.show()"
   ]
  },
  {
   "cell_type": "code",
   "execution_count": 58,
   "id": "88e9f7ac",
   "metadata": {},
   "outputs": [
    {
     "data": {
      "image/png": "[encoded data removed]",
      "text/plain": [
       "<Figure size 432x288 with 1 Axes>"
      ]
     },
     "metadata": {
      "needs_background": "light"
     },
     "output_type": "display_data"
    }
   ],
   "source": [
    "sns.scatterplot(x=df1['employment_type'],y=df1['experience_level'],hue=df1['salary_currency'])\n",
    "plt.show()"
   ]
  },
  {
   "cell_type": "markdown",
   "id": "e19cf33c",
   "metadata": {},
   "source": [
    "####  selecting x and y"
   ]
  },
  {
   "cell_type": "code",
   "execution_count": 59,
   "id": "df9835fc",
   "metadata": {},
   "outputs": [
    {
     "name": "stdout",
     "output_type": "stream",
     "text": [
      "(2584, 10)\n",
      "(2584,)\n"
     ]
    }
   ],
   "source": [
    "x1 = df1.drop(['salary'],axis=1)\n",
    "y1 = df1['salary']\n",
    "print(x1.shape)\n",
    "print(y1.shape)"
   ]
  },
  {
   "cell_type": "markdown",
   "id": "34f67158",
   "metadata": {},
   "source": [
    "####  splitting the data"
   ]
  },
  {
   "cell_type": "code",
   "execution_count": 60,
   "id": "b95bb06a",
   "metadata": {},
   "outputs": [],
   "source": [
    "from sklearn.model_selection import train_test_split"
   ]
  },
  {
   "cell_type": "code",
   "execution_count": 61,
   "id": "a4e9e1bf",
   "metadata": {},
   "outputs": [
    {
     "name": "stdout",
     "output_type": "stream",
     "text": [
      "(1808, 10)\n",
      "(776, 10)\n",
      "(1808,)\n",
      "(776,)\n"
     ]
    }
   ],
   "source": [
    "x_train,x_test,y_train,y_test = train_test_split(x1,y1,test_size=0.3,random_state=42)\n",
    "print(x_train.shape)\n",
    "print(x_test.shape)\n",
    "print(y_train.shape)\n",
    "print(y_test.shape)"
   ]
  },
  {
   "cell_type": "markdown",
   "id": "84b3270e",
   "metadata": {},
   "source": [
    "#### applying KNN classification"
   ]
  },
  {
   "cell_type": "code",
   "execution_count": 62,
   "id": "c0f066ea",
   "metadata": {},
   "outputs": [],
   "source": [
    "from sklearn.neighbors import KNeighborsClassifier"
   ]
  },
  {
   "cell_type": "code",
   "execution_count": 63,
   "id": "5672e7ae",
   "metadata": {},
   "outputs": [
    {
     "data": {
      "text/plain": [
       "KNeighborsClassifier(n_neighbors=30)"
      ]
     },
     "execution_count": 63,
     "metadata": {},
     "output_type": "execute_result"
    }
   ],
   "source": [
    "m1 = KNeighborsClassifier(n_neighbors=30)\n",
    "m1.fit(x_train,y_train)"
   ]
  },
  {
   "cell_type": "code",
   "execution_count": 64,
   "id": "bfec68a1",
   "metadata": {},
   "outputs": [
    {
     "name": "stdout",
     "output_type": "stream",
     "text": [
      "Train Score 0.3821902654867257\n",
      "Test Score 0.3595360824742268\n"
     ]
    }
   ],
   "source": [
    "print('Train Score',m1.score(x_train,y_train))\n",
    "print('Test Score',m1.score(x_test,y_test))"
   ]
  },
  {
   "cell_type": "code",
   "execution_count": 65,
   "id": "0b353102",
   "metadata": {},
   "outputs": [
    {
     "name": "stdout",
     "output_type": "stream",
     "text": [
      "[ 48000  90000 225000 130000 100000 220000 190000 130000 250000  30000\n",
      " 230000 190000  95000 180000 125000  95000 100000  90000 300000 135000\n",
      "  55000 215000  20000  12000 300000 100000 125000 150000 115000 155000\n",
      " 200000 130000 115000 185000  30000  75000  40000  90000 185000  50000\n",
      " 260000 110000  70000 128000  90000 170000 180000 190000 125000 200000\n",
      " 100000 150000 180000  12000 180000  40000 140000 145000 145000 150000\n",
      "  40000 190000  75000  20000 110000 200000 100000  60000  60000  60000\n",
      "  95000 140000 165000 175000 192000 220000 170000  75000 136000  95000\n",
      " 250000 175000 130000 175000 250000 100000  65000 210000 250000  60000\n",
      " 185000  75000 170000 160000  12000 110000  50000 100000 150000  70000\n",
      " 190000 230000 115000  65000 250000  50000  70000 105000  55000 192000\n",
      " 145000  80000  75000 225000 128000 210000 130000  60000 135000 240000\n",
      " 100000  40000 135000  50000 205000 105000 193900 205000  75000 170000\n",
      " 140000 155000 230000 122000 250000 200000 155000 155000  80000 145000\n",
      " 150000 160000 115000 250000 105000 210000  70000 310000 105000 185000\n",
      "  30000 153000 110000  70000 100000 160000 100000 145000 185000 136000\n",
      "  50000 170000 235000 108000 175000 150000  80000  75000 230000 136000\n",
      " 220000  50000  50000 235000 170000 100000  12000 180000 275000 120000\n",
      "  65000 120000  80000 210000  20000  40000  50000 108000  80000 130000\n",
      "  70000  60000 115000 190000 100000  70000  70000 110000 110000  80000\n",
      "  30000  20000 105000 145000 260000  45000 135000 230000 205000 120000\n",
      " 122000  95000 190000 150000 120000 185000 150000 150000  70000 160000\n",
      "  95000 155000  95000 160000 205000 235000  20000 128000 160000 235000\n",
      " 100000  70000 190000 185000 275000 175000  70000  65000 115000 145000\n",
      "  65000 150000  65000 155000  12000  20000 200000  65000 185000  75000\n",
      " 180000 135000  85000 170000  75000 115000 130000 193900 155000 130000\n",
      " 170000 100000 155000  80000 250000  48000 100000 145000 200000 220000\n",
      " 145000 185000  65000 120000  30000  75000 125000 130000 160000 185000\n",
      " 200000 120000 115000 260000 102100 205000  65000 150000 100000 105000\n",
      " 145000 145000 250000 190000  70000 185000 110000 135000  80000 115000\n",
      " 200000  65000 128000  95000  50000  48000  90000 130000 200000 250000\n",
      " 170000 100000  80000 225000  50000 150000 140000 180000 200000 205000\n",
      "  60000 180000 230000  12000 185000  90000 165000  60000  50000 110000\n",
      " 200000  55000  80000  50000 128000  48000 185000 135000 210000 115000\n",
      " 136000 105000 150000 125000  12000 185000  45000 220000  12000 115000\n",
      " 230000 144000 275000 130000  65000 250000  30000  90000 135000 250000\n",
      " 130000 205000  20000  50000 185000 205000  75000 100000 150000 200000\n",
      " 105000 130000  85000 175000 110000 220000  40000 110000 215000  45000\n",
      " 155000  55000 180000  90000 135000  70000 175000 165000  20000 130000\n",
      " 125000 105000 145000  80000 100000 150000 105000 180000 100000 140000\n",
      " 250000 185000 130000 205000  75000 200000 260000 140000 120000  12000\n",
      " 110000 185000  65000  40000 165000 140000 130000  75000  55000 175000\n",
      " 120000 105000 235000  60000 160000 180000  85000  50000  90000 140000\n",
      " 135000  20000  50000 160000  50000 153000  85000 140000 102100 105000\n",
      "  60000  80000 185000 120000 108000  75000 190000  12000 170000  75000\n",
      " 108000 135000 120000 155000 165000 230000 230000 120000 130000 145000\n",
      " 100000  80000 230000 160000 180000  65000 310000 200000 115000  70000\n",
      " 168400 275000 225000 175000 144000 235000 190000  85000 155000  70000\n",
      " 108000 165000  75000 230000 190000 140000 210000  95000  85000  30000\n",
      " 165000  40000 145000  65000  50000 210000 200000  40000  55000  20000\n",
      "  80000 100000  75000 155000 120000 150000 250000 110000 247500 200000\n",
      "  95000 130000 250000 250000  20000  95000 175000 225000 100000 140000\n",
      " 235000 170000 135000  90000 150000 125000  70000 175000 110000 150000\n",
      " 150000 125000 115000 130000 125000 153000 190000  55000 250000  50000\n",
      "  70000 185000  75000 170000  95000  55000 110000  40000 120000 170000\n",
      " 150000  80000 120000  20000 260000  90000  12000 185000 170000 175000\n",
      " 125000 120000  75000 120000 205000  30000 155000 192000 220000  75000\n",
      "  50000  75000 135000  70000 122000 145000  95000 115000  95000 190000\n",
      " 180000 130000 160000 310000 140000 200000 120000  50000 113000 192000\n",
      "  60000 155000 120000  40000  85000  60000 260000  50000 140000 150000\n",
      " 190000 230000 275000 160000 108000  70000  90000 115000 135000  30000\n",
      " 100000 140000 235000 170000  90700 205000 145000 100000 200000 190000\n",
      " 145000 240000  65000 220000  50000 120000 110000  95000  50000 225000\n",
      "  48000 160000 150000  85000 185000 115000 250000  50000 110000 140000\n",
      " 105000  20000 140000 115000 155000 215000 105000  50000 115000 170000\n",
      " 300000 135000 200000 210000 122000 130000 180000  35000 155000 155000\n",
      " 155000 230000 150000 155000  90000 125000  80000 100000  20000 180000\n",
      "  40000 175000 180000  80000 140000 115000 130000 200000 190000 185000\n",
      " 165000 108000 115000 120000 130000  65000  12000  90000 193900  75000\n",
      "  12000 205000 275000  40000 115000 145000 200000 120000 210000 110000\n",
      "  50000 100000 155000  60000  45000 150000  95000 122000 125000 275000\n",
      " 165000  45000 165000 105000 170000 250000 100000 108000 140000 175000\n",
      " 200000 144000 160000 165000 300000 130000 230000 185000 165000 160000\n",
      " 115000  55000 140000 115000 200000  45000 110000 250000 150000 140000\n",
      " 205000  70000  75000 300000  80000 200000  65000  90700 120000 145000\n",
      "  30000 115000  65000  30000  90700 150000 205000 145000 105000 180000\n",
      "  85000  40000 170000 168400 140000 153000 105000 105000  65000 250000\n",
      " 150000 155000  75000 230000 190000 115000]\n"
     ]
    }
   ],
   "source": [
    "ypred_m1 = m1.predict(x_test)\n",
    "print(ypred_m1)"
   ]
  },
  {
   "cell_type": "markdown",
   "id": "719d3e55",
   "metadata": {},
   "source": [
    "#### confusion matrix and classification"
   ]
  },
  {
   "cell_type": "code",
   "execution_count": 66,
   "id": "5925fc3a",
   "metadata": {},
   "outputs": [],
   "source": [
    "from sklearn.metrics import confusion_matrix,classification_report"
   ]
  },
  {
   "cell_type": "code",
   "execution_count": 67,
   "id": "58c61433",
   "metadata": {},
   "outputs": [
    {
     "name": "stdout",
     "output_type": "stream",
     "text": [
      "[[0 0 1 ... 0 0 0]\n",
      " [0 0 2 ... 0 0 0]\n",
      " [0 0 1 ... 0 0 0]\n",
      " ...\n",
      " [0 0 0 ... 0 0 0]\n",
      " [0 0 0 ... 0 0 0]\n",
      " [0 0 0 ... 0 0 0]]\n",
      "              precision    recall  f1-score   support\n",
      "\n",
      "        9272       0.00      0.00      0.00         1\n",
      "       10000       0.00      0.00      0.00         2\n",
      "       12000       0.08      1.00      0.14         1\n",
      "       19000       0.00      0.00      0.00         1\n",
      "       20000       0.21      1.00      0.35         3\n",
      "       21000       0.00      0.00      0.00         1\n",
      "       22000       0.00      0.00      0.00         1\n",
      "       23000       0.00      0.00      0.00         1\n",
      "       24000       0.00      0.00      0.00         2\n",
      "       25000       0.00      0.00      0.00         1\n",
      "       26000       0.00      0.00      0.00         1\n",
      "       28500       0.00      0.00      0.00         1\n",
      "       30000       0.27      1.00      0.43         3\n",
      "       31000       0.00      0.00      0.00         1\n",
      "       33000       0.00      0.00      0.00         3\n",
      "       34000       0.00      0.00      0.00         1\n",
      "       35000       0.00      0.00      0.00         3\n",
      "       36000       0.00      0.00      0.00         2\n",
      "       38000       0.00      0.00      0.00         1\n",
      "       38400       0.00      0.00      0.00         2\n",
      "       39600       0.00      0.00      0.00         1\n",
      "       40000       0.14      0.33      0.20         6\n",
      "       40300       0.00      0.00      0.00         1\n",
      "       42000       0.00      0.00      0.00         2\n",
      "       43200       0.00      0.00      0.00         1\n",
      "       44000       0.00      0.00      0.00         1\n",
      "       45000       0.00      0.00      0.00         5\n",
      "       45555       0.00      0.00      0.00         1\n",
      "       47500       0.00      0.00      0.00         1\n",
      "       48000       0.00      0.00      0.00         6\n",
      "       50000       0.42      0.79      0.55        14\n",
      "       52000       0.00      0.00      0.00         2\n",
      "       52500       0.00      0.00      0.00         5\n",
      "       53000       0.00      0.00      0.00         1\n",
      "       54000       0.00      0.00      0.00         1\n",
      "       55000       0.11      0.50      0.18         2\n",
      "       57000       0.00      0.00      0.00         2\n",
      "       58000       0.00      0.00      0.00         2\n",
      "       59000       0.00      0.00      0.00         3\n",
      "       60000       0.15      0.29      0.20         7\n",
      "       60027       0.00      0.00      0.00         1\n",
      "       61000       0.00      0.00      0.00         1\n",
      "       62000       0.00      0.00      0.00         1\n",
      "       62500       0.00      0.00      0.00         1\n",
      "       63000       0.00      0.00      0.00         4\n",
      "       64000       0.00      0.00      0.00         1\n",
      "       64200       0.00      0.00      0.00         1\n",
      "       65000       0.21      0.57      0.31         7\n",
      "       65720       0.00      0.00      0.00         1\n",
      "       66000       0.00      0.00      0.00         3\n",
      "       66100       0.00      0.00      0.00         1\n",
      "       68000       0.00      0.00      0.00         1\n",
      "       70000       0.45      0.69      0.55        13\n",
      "       72000       0.00      0.00      0.00         3\n",
      "       72500       0.00      0.00      0.00         1\n",
      "       73000       0.00      0.00      0.00         1\n",
      "       74178       0.00      0.00      0.00         1\n",
      "       74540       0.00      0.00      0.00         2\n",
      "       75000       0.29      0.64      0.40        11\n",
      "       76000       0.00      0.00      0.00         1\n",
      "       77300       0.00      0.00      0.00         1\n",
      "       78000       0.00      0.00      0.00         1\n",
      "       79000       0.00      0.00      0.00         1\n",
      "       80000       0.50      0.90      0.64        10\n",
      "       81500       0.00      0.00      0.00         2\n",
      "       81666       0.00      0.00      0.00         2\n",
      "       82500       0.00      0.00      0.00         1\n",
      "       82900       0.00      0.00      0.00         1\n",
      "       83300       0.00      0.00      0.00         1\n",
      "       83500       0.00      0.00      0.00         1\n",
      "       84570       0.00      0.00      0.00         1\n",
      "       85000       0.78      0.70      0.74        10\n",
      "       86000       0.00      0.00      0.00         1\n",
      "       88100       0.00      0.00      0.00         1\n",
      "       90000       0.79      0.73      0.76        15\n",
      "       90320       0.00      0.00      0.00         1\n",
      "       90700       0.00      0.00      0.00         0\n",
      "       93000       0.00      0.00      0.00         1\n",
      "       93700       0.00      0.00      0.00         1\n",
      "       94000       0.00      0.00      0.00         2\n",
      "       94500       0.00      0.00      0.00         1\n",
      "       95000       0.44      0.78      0.56         9\n",
      "       96100       0.00      0.00      0.00         1\n",
      "       97000       0.00      0.00      0.00         1\n",
      "       98000       0.00      0.00      0.00         1\n",
      "       98200       0.00      0.00      0.00         1\n",
      "       99000       0.00      0.00      0.00         2\n",
      "       99360       0.00      0.00      0.00         1\n",
      "       99750       0.00      0.00      0.00         1\n",
      "      100000       0.46      0.72      0.57        18\n",
      "      100500       0.00      0.00      0.00         1\n",
      "      100706       0.00      0.00      0.00         1\n",
      "      100800       0.00      0.00      0.00         1\n",
      "      101400       0.00      0.00      0.00         1\n",
      "      101570       0.00      0.00      0.00         2\n",
      "      102000       0.00      0.00      0.00         1\n",
      "      102100       0.00      0.00      0.00         0\n",
      "      104000       0.00      0.00      0.00         1\n",
      "      104300       0.00      0.00      0.00         2\n",
      "      104500       0.00      0.00      0.00         1\n",
      "      105000       0.28      1.00      0.43         5\n",
      "      105200       0.00      0.00      0.00         2\n",
      "      105500       0.00      0.00      0.00         1\n",
      "      105700       0.00      0.00      0.00         1\n",
      "      106000       0.00      0.00      0.00         2\n",
      "      106020       0.00      0.00      0.00         1\n",
      "      106500       0.00      0.00      0.00         1\n",
      "      106800       0.00      0.00      0.00         2\n",
      "      106900       0.00      0.00      0.00         1\n",
      "      107000       0.00      0.00      0.00         2\n",
      "      107250       0.00      0.00      0.00         1\n",
      "      107900       0.00      0.00      0.00         1\n",
      "      108000       0.25      1.00      0.40         2\n",
      "      109000       0.00      0.00      0.00         2\n",
      "      110000       0.50      1.00      0.67         9\n",
      "      110500       0.00      0.00      0.00         1\n",
      "      110600       0.00      0.00      0.00         1\n",
      "      110680       0.00      0.00      0.00         1\n",
      "      110925       0.00      0.00      0.00         1\n",
      "      111775       0.00      0.00      0.00         1\n",
      "      112000       0.00      0.00      0.00         1\n",
      "      112300       0.00      0.00      0.00         1\n",
      "      112900       0.00      0.00      0.00         2\n",
      "      113000       0.00      0.00      0.00         0\n",
      "      113750       0.00      0.00      0.00         2\n",
      "      114000       0.00      0.00      0.00         1\n",
      "      114500       0.00      0.00      0.00         1\n",
      "      115000       0.20      1.00      0.33         5\n",
      "      115092       0.00      0.00      0.00         1\n",
      "      115440       0.00      0.00      0.00         1\n",
      "      115934       0.00      0.00      0.00         1\n",
      "      116000       0.00      0.00      0.00         2\n",
      "      116150       0.00      0.00      0.00         1\n",
      "      116704       0.00      0.00      0.00         1\n",
      "      116990       0.00      0.00      0.00         1\n",
      "      117000       0.00      0.00      0.00         1\n",
      "      118000       0.00      0.00      0.00         1\n",
      "      120000       0.64      0.82      0.72        17\n",
      "      120600       0.00      0.00      0.00         1\n",
      "      121500       0.00      0.00      0.00         1\n",
      "      121700       0.00      0.00      0.00         1\n",
      "      122000       0.00      0.00      0.00         1\n",
      "      122500       0.00      0.00      0.00         1\n",
      "      122600       0.00      0.00      0.00         2\n",
      "      122900       0.00      0.00      0.00         1\n",
      "      123000       0.00      0.00      0.00         1\n",
      "      123700       0.00      0.00      0.00         1\n",
      "      124000       0.00      0.00      0.00         1\n",
      "      124740       0.00      0.00      0.00         1\n",
      "      124999       0.00      0.00      0.00         1\n",
      "      125000       0.33      0.80      0.47         5\n",
      "      125404       0.00      0.00      0.00         1\n",
      "      126000       0.00      0.00      0.00         1\n",
      "      126277       0.00      0.00      0.00         1\n",
      "      127000       0.00      0.00      0.00         1\n",
      "      128000       0.60      1.00      0.75         3\n",
      "      128750       0.00      0.00      0.00         1\n",
      "      128875       0.00      0.00      0.00         2\n",
      "      129000       0.00      0.00      0.00         1\n",
      "      129300       0.00      0.00      0.00         2\n",
      "      130000       0.50      0.92      0.65        13\n",
      "      130001       0.00      0.00      0.00         1\n",
      "      130050       0.00      0.00      0.00         1\n",
      "      131300       0.00      0.00      0.00         2\n",
      "      132000       0.00      0.00      0.00         1\n",
      "      134000       0.00      0.00      0.00         1\n",
      "      135000       0.80      1.00      0.89        12\n",
      "      136000       0.00      0.00      0.00         1\n",
      "      136100       0.00      0.00      0.00         1\n",
      "      136994       0.00      0.00      0.00         2\n",
      "      137141       0.00      0.00      0.00         1\n",
      "      137400       0.00      0.00      0.00         1\n",
      "      138000       0.00      0.00      0.00         1\n",
      "      138750       0.00      0.00      0.00         2\n",
      "      138900       0.00      0.00      0.00         1\n",
      "      139000       0.00      0.00      0.00         2\n",
      "      139600       0.00      0.00      0.00         1\n",
      "      140000       0.29      1.00      0.44         6\n",
      "      140250       0.00      0.00      0.00         1\n",
      "      140400       0.00      0.00      0.00         2\n",
      "      140700       0.00      0.00      0.00         1\n",
      "      141290       0.00      0.00      0.00         1\n",
      "      141300       0.00      0.00      0.00         1\n",
      "      141525       0.00      0.00      0.00         1\n",
      "      142000       0.00      0.00      0.00         1\n",
      "      142127       0.00      0.00      0.00         1\n",
      "      142800       0.00      0.00      0.00         1\n",
      "      143000       0.00      0.00      0.00         1\n",
      "      143865       0.00      0.00      0.00         1\n",
      "      144000       0.00      0.00      0.00         2\n",
      "      144100       0.00      0.00      0.00         1\n",
      "      144200       0.00      0.00      0.00         1\n",
      "      145000       0.25      1.00      0.40         5\n",
      "      145300       0.00      0.00      0.00         1\n",
      "      145885       0.00      0.00      0.00         1\n",
      "      145900       0.00      0.00      0.00         1\n",
      "      146000       0.00      0.00      0.00         1\n",
      "      146200       0.00      0.00      0.00         1\n",
      "      146300       0.00      0.00      0.00         1\n",
      "      147000       0.00      0.00      0.00         3\n",
      "      148000       0.00      0.00      0.00         1\n",
      "      148500       0.00      0.00      0.00         1\n",
      "      148700       0.00      0.00      0.00         2\n",
      "      148750       0.00      0.00      0.00         1\n",
      "      148800       0.00      0.00      0.00         1\n",
      "      149000       0.00      0.00      0.00         1\n",
      "      149500       0.00      0.00      0.00         1\n",
      "      150000       0.37      0.91      0.53        11\n",
      "      150260       0.00      0.00      0.00         1\n",
      "      150900       0.00      0.00      0.00         1\n",
      "      151800       0.00      0.00      0.00         2\n",
      "      152000       0.00      0.00      0.00         4\n",
      "      152500       0.00      0.00      0.00         1\n",
      "      153000       0.50      1.00      0.67         2\n",
      "      153088       0.00      0.00      0.00         1\n",
      "      153400       0.00      0.00      0.00         1\n",
      "      153600       0.00      0.00      0.00         3\n",
      "      154000       0.00      0.00      0.00         4\n",
      "      154600       0.00      0.00      0.00         1\n",
      "      155000       0.19      1.00      0.32         4\n",
      "      156000       0.00      0.00      0.00         1\n",
      "      156400       0.00      0.00      0.00         4\n",
      "      156600       0.00      0.00      0.00         1\n",
      "      156868       0.00      0.00      0.00         1\n",
      "      158000       0.00      0.00      0.00         1\n",
      "      159100       0.00      0.00      0.00         1\n",
      "      159500       0.00      0.00      0.00         2\n",
      "      159699       0.00      0.00      0.00         1\n",
      "      160000       0.40      0.86      0.55         7\n",
      "      160080       0.00      0.00      0.00         2\n",
      "      161800       0.00      0.00      0.00         1\n",
      "      162000       0.00      0.00      0.00         1\n",
      "      162500       0.00      0.00      0.00         1\n",
      "      164000       0.00      0.00      0.00         2\n",
      "      165000       0.50      1.00      0.67         6\n",
      "      165750       0.00      0.00      0.00         1\n",
      "      166000       0.00      0.00      0.00         1\n",
      "      167000       0.00      0.00      0.00         3\n",
      "      167500       0.00      0.00      0.00         2\n",
      "      167580       0.00      0.00      0.00         1\n",
      "      168000       0.00      0.00      0.00         2\n",
      "      168400       0.00      0.00      0.00         0\n",
      "      169000       0.00      0.00      0.00         1\n",
      "      170000       0.44      0.89      0.59         9\n",
      "      171250       0.00      0.00      0.00         1\n",
      "      171600       0.00      0.00      0.00         1\n",
      "      172000       0.00      0.00      0.00         1\n",
      "      172200       0.00      0.00      0.00         3\n",
      "      172600       0.00      0.00      0.00         1\n",
      "      173000       0.00      0.00      0.00         2\n",
      "      174000       0.00      0.00      0.00         1\n",
      "      175000       0.64      1.00      0.78         9\n",
      "      176000       0.00      0.00      0.00         1\n",
      "      178000       0.00      0.00      0.00         1\n",
      "      179000       0.00      0.00      0.00         1\n",
      "      179305       0.00      0.00      0.00         1\n",
      "      179400       0.00      0.00      0.00         1\n",
      "      179775       0.00      0.00      0.00         1\n",
      "      179820       0.00      0.00      0.00         1\n",
      "      179975       0.00      0.00      0.00         1\n",
      "      180000       0.53      1.00      0.69         9\n",
      "      182000       0.00      0.00      0.00         1\n",
      "      182750       0.00      0.00      0.00         2\n",
      "      183000       0.00      0.00      0.00         4\n",
      "      183500       0.00      0.00      0.00         1\n",
      "      183600       0.00      0.00      0.00         1\n",
      "      184000       0.00      0.00      0.00         2\n",
      "      185000       0.30      1.00      0.47         7\n",
      "      185900       0.00      0.00      0.00         3\n",
      "      186000       0.00      0.00      0.00         1\n",
      "      187000       0.00      0.00      0.00         1\n",
      "      187500       0.00      0.00      0.00         1\n",
      "      188000       0.00      0.00      0.00         1\n",
      "      188700       0.00      0.00      0.00         1\n",
      "      189110       0.00      0.00      0.00         1\n",
      "      189650       0.00      0.00      0.00         1\n",
      "      190000       0.44      1.00      0.62         8\n",
      "      190200       0.00      0.00      0.00         1\n",
      "      191475       0.00      0.00      0.00         1\n",
      "      191765       0.00      0.00      0.00         1\n",
      "      192000       0.00      0.00      0.00         2\n",
      "      192564       0.00      0.00      0.00         1\n",
      "      193000       0.00      0.00      0.00         1\n",
      "      193750       0.00      0.00      0.00         1\n",
      "      193900       0.00      0.00      0.00         0\n",
      "      194500       0.00      0.00      0.00         1\n",
      "      195000       0.00      0.00      0.00         1\n",
      "      195400       0.00      0.00      0.00         1\n",
      "      196000       0.00      0.00      0.00         2\n",
      "      197000       0.00      0.00      0.00         1\n",
      "      197430       0.00      0.00      0.00         1\n",
      "      198000       0.00      0.00      0.00         2\n",
      "      198200       0.00      0.00      0.00         2\n",
      "      198440       0.00      0.00      0.00         1\n",
      "      198800       0.00      0.00      0.00         1\n",
      "      199000       0.00      0.00      0.00         1\n",
      "      200000       0.54      0.93      0.68        14\n",
      "      201036       0.00      0.00      0.00         1\n",
      "      201450       0.00      0.00      0.00         2\n",
      "      202800       0.00      0.00      0.00         1\n",
      "      202900       0.00      0.00      0.00         1\n",
      "      203000       0.00      0.00      0.00         1\n",
      "      203500       0.00      0.00      0.00         2\n",
      "      204100       0.00      0.00      0.00         1\n",
      "      204500       0.00      0.00      0.00         2\n",
      "      205000       0.14      1.00      0.25         2\n",
      "      205600       0.00      0.00      0.00         1\n",
      "      205920       0.00      0.00      0.00         1\n",
      "      206000       0.00      0.00      0.00         1\n",
      "      207000       0.00      0.00      0.00         1\n",
      "      208049       0.00      0.00      0.00         1\n",
      "      208775       0.00      0.00      0.00         1\n",
      "      209100       0.00      0.00      0.00         1\n",
      "      210000       0.33      1.00      0.50         3\n",
      "      211500       0.00      0.00      0.00         1\n",
      "      212800       0.00      0.00      0.00         1\n",
      "      214000       0.00      0.00      0.00         1\n",
      "      215000       0.00      0.00      0.00         0\n",
      "      215050       0.00      0.00      0.00         1\n",
      "      216200       0.00      0.00      0.00         1\n",
      "      219535       0.00      0.00      0.00         1\n",
      "      220000       0.62      1.00      0.77         5\n",
      "      221000       0.00      0.00      0.00         1\n",
      "      222000       0.00      0.00      0.00         1\n",
      "      225000       1.00      1.00      1.00         6\n",
      "      225900       0.00      0.00      0.00         1\n",
      "      226700       0.00      0.00      0.00         1\n",
      "      227200       0.00      0.00      0.00         1\n",
      "      228000       0.00      0.00      0.00         2\n",
      "      230000       0.33      1.00      0.50         5\n",
      "      231250       0.00      0.00      0.00         1\n",
      "      232200       0.00      0.00      0.00         1\n",
      "      235000       0.00      0.00      0.00         3\n",
      "      236000       0.00      0.00      0.00         1\n",
      "      236600       0.00      0.00      0.00         1\n",
      "      237000       0.00      0.00      0.00         1\n",
      "      239000       0.00      0.00      0.00         2\n",
      "      240000       0.00      0.00      0.00         3\n",
      "      240500       0.00      0.00      0.00         1\n",
      "      241000       0.00      0.00      0.00         1\n",
      "      245000       0.00      0.00      0.00         1\n",
      "      247300       0.00      0.00      0.00         1\n",
      "      247500       0.00      0.00      0.00         2\n",
      "      249260       0.00      0.00      0.00         1\n",
      "      249300       0.00      0.00      0.00         1\n",
      "      250000       0.33      1.00      0.50         7\n",
      "      250500       0.00      0.00      0.00         1\n",
      "      253750       0.00      0.00      0.00         1\n",
      "      257000       0.00      0.00      0.00         2\n",
      "      259000       0.00      0.00      0.00         1\n",
      "      260000       0.00      0.00      0.00         2\n",
      "      261500       0.00      0.00      0.00         1\n",
      "      262000       0.00      0.00      0.00         1\n",
      "      262500       0.00      0.00      0.00         1\n",
      "      265000       0.00      0.00      0.00         1\n",
      "      266400       0.00      0.00      0.00         1\n",
      "      269600       0.00      0.00      0.00         1\n",
      "      270703       0.00      0.00      0.00         1\n",
      "      272000       0.00      0.00      0.00         1\n",
      "      275000       0.00      0.00      0.00         0\n",
      "      280100       0.00      0.00      0.00         1\n",
      "      280700       0.00      0.00      0.00         1\n",
      "      283200       0.00      0.00      0.00         1\n",
      "      284310       0.00      0.00      0.00         1\n",
      "      286000       0.00      0.00      0.00         1\n",
      "      288000       0.00      0.00      0.00         1\n",
      "      291500       0.00      0.00      0.00         1\n",
      "      293000       0.00      0.00      0.00         1\n",
      "      300000       0.40      0.67      0.50         3\n",
      "      310000       0.00      0.00      0.00         0\n",
      "      315000       0.00      0.00      0.00         1\n",
      "      350000       0.00      0.00      0.00         2\n",
      "      375000       0.00      0.00      0.00         1\n",
      "      385000       0.00      0.00      0.00         1\n",
      "      400000       0.00      0.00      0.00         2\n",
      "      420000       0.00      0.00      0.00         1\n",
      "      435000       0.00      0.00      0.00         1\n",
      "      633000       0.00      0.00      0.00         1\n",
      "      900000       0.00      0.00      0.00         1\n",
      "     1000000       0.00      0.00      0.00         1\n",
      "     1100000       0.00      0.00      0.00         1\n",
      "     1125000       0.00      0.00      0.00         1\n",
      "     1250000       0.00      0.00      0.00         1\n",
      "     1500000       0.00      0.00      0.00         1\n",
      "     1672000       0.00      0.00      0.00         1\n",
      "     2400000       0.00      0.00      0.00         1\n",
      "     3000000       0.00      0.00      0.00         2\n",
      "     4000000       0.00      0.00      0.00         1\n",
      "     4200000       0.00      0.00      0.00         1\n",
      "     6600000       0.00      0.00      0.00         1\n",
      "     8500000       0.00      0.00      0.00         1\n",
      "\n",
      "    accuracy                           0.36       776\n",
      "   macro avg       0.05      0.10      0.06       776\n",
      "weighted avg       0.20      0.36      0.25       776\n",
      "\n"
     ]
    },
    {
     "name": "stderr",
     "output_type": "stream",
     "text": [
      "C:\\Users\\Kavitha Ooha\\Anaconda3\\lib\\site-packages\\sklearn\\metrics\\_classification.py:1245: UndefinedMetricWarning: Precision and F-score are ill-defined and being set to 0.0 in labels with no predicted samples. Use `zero_division` parameter to control this behavior.\n",
      "  _warn_prf(average, modifier, msg_start, len(result))\n",
      "C:\\Users\\Kavitha Ooha\\Anaconda3\\lib\\site-packages\\sklearn\\metrics\\_classification.py:1245: UndefinedMetricWarning: Recall and F-score are ill-defined and being set to 0.0 in labels with no true samples. Use `zero_division` parameter to control this behavior.\n",
      "  _warn_prf(average, modifier, msg_start, len(result))\n",
      "C:\\Users\\Kavitha Ooha\\Anaconda3\\lib\\site-packages\\sklearn\\metrics\\_classification.py:1245: UndefinedMetricWarning: Precision and F-score are ill-defined and being set to 0.0 in labels with no predicted samples. Use `zero_division` parameter to control this behavior.\n",
      "  _warn_prf(average, modifier, msg_start, len(result))\n",
      "C:\\Users\\Kavitha Ooha\\Anaconda3\\lib\\site-packages\\sklearn\\metrics\\_classification.py:1245: UndefinedMetricWarning: Recall and F-score are ill-defined and being set to 0.0 in labels with no true samples. Use `zero_division` parameter to control this behavior.\n",
      "  _warn_prf(average, modifier, msg_start, len(result))\n",
      "C:\\Users\\Kavitha Ooha\\Anaconda3\\lib\\site-packages\\sklearn\\metrics\\_classification.py:1245: UndefinedMetricWarning: Precision and F-score are ill-defined and being set to 0.0 in labels with no predicted samples. Use `zero_division` parameter to control this behavior.\n",
      "  _warn_prf(average, modifier, msg_start, len(result))\n",
      "C:\\Users\\Kavitha Ooha\\Anaconda3\\lib\\site-packages\\sklearn\\metrics\\_classification.py:1245: UndefinedMetricWarning: Recall and F-score are ill-defined and being set to 0.0 in labels with no true samples. Use `zero_division` parameter to control this behavior.\n",
      "  _warn_prf(average, modifier, msg_start, len(result))\n"
     ]
    }
   ],
   "source": [
    "cm = confusion_matrix(y_test,ypred_m1)\n",
    "print(cm)\n",
    "print(classification_report(y_test,ypred_m1))"
   ]
  },
  {
   "cell_type": "markdown",
   "id": "dc5880b8",
   "metadata": {},
   "source": [
    "## SVM classifier with linear and RBF(radial basis function) kernal"
   ]
  },
  {
   "cell_type": "code",
   "execution_count": 68,
   "id": "0fd55ac9",
   "metadata": {},
   "outputs": [],
   "source": [
    "import pandas as pd\n",
    "import numpy as np\n",
    "import matplotlib.pyplot as plt"
   ]
  },
  {
   "cell_type": "code",
   "execution_count": 69,
   "id": "84ee002e",
   "metadata": {},
   "outputs": [
    {
     "data": {
      "text/html": [
       "<div>\n",
       "<style scoped>\n",
       "    .dataframe tbody tr th:only-of-type {\n",
       "        vertical-align: middle;\n",
       "    }\n",
       "\n",
       "    .dataframe tbody tr th {\n",
       "        vertical-align: top;\n",
       "    }\n",
       "\n",
       "    .dataframe thead th {\n",
       "        text-align: right;\n",
       "    }\n",
       "</style>\n",
       "<table border=\"1\" class=\"dataframe\">\n",
       "  <thead>\n",
       "    <tr style=\"text-align: right;\">\n",
       "      <th></th>\n",
       "      <th>work_year</th>\n",
       "      <th>experience_level</th>\n",
       "      <th>employment_type</th>\n",
       "      <th>job_title</th>\n",
       "      <th>salary</th>\n",
       "      <th>salary_currency</th>\n",
       "      <th>salary_in_usd</th>\n",
       "      <th>employee_residence</th>\n",
       "      <th>remote_ratio</th>\n",
       "      <th>company_location</th>\n",
       "      <th>company_size</th>\n",
       "    </tr>\n",
       "  </thead>\n",
       "  <tbody>\n",
       "    <tr>\n",
       "      <th>0</th>\n",
       "      <td>2023</td>\n",
       "      <td>3</td>\n",
       "      <td>2</td>\n",
       "      <td>84</td>\n",
       "      <td>80000</td>\n",
       "      <td>7</td>\n",
       "      <td>85847</td>\n",
       "      <td>26</td>\n",
       "      <td>100</td>\n",
       "      <td>25</td>\n",
       "      <td>0</td>\n",
       "    </tr>\n",
       "    <tr>\n",
       "      <th>1</th>\n",
       "      <td>2023</td>\n",
       "      <td>2</td>\n",
       "      <td>0</td>\n",
       "      <td>66</td>\n",
       "      <td>30000</td>\n",
       "      <td>19</td>\n",
       "      <td>30000</td>\n",
       "      <td>75</td>\n",
       "      <td>100</td>\n",
       "      <td>70</td>\n",
       "      <td>2</td>\n",
       "    </tr>\n",
       "    <tr>\n",
       "      <th>2</th>\n",
       "      <td>2023</td>\n",
       "      <td>2</td>\n",
       "      <td>0</td>\n",
       "      <td>66</td>\n",
       "      <td>25500</td>\n",
       "      <td>19</td>\n",
       "      <td>25500</td>\n",
       "      <td>75</td>\n",
       "      <td>100</td>\n",
       "      <td>70</td>\n",
       "      <td>2</td>\n",
       "    </tr>\n",
       "    <tr>\n",
       "      <th>3</th>\n",
       "      <td>2023</td>\n",
       "      <td>3</td>\n",
       "      <td>2</td>\n",
       "      <td>47</td>\n",
       "      <td>175000</td>\n",
       "      <td>19</td>\n",
       "      <td>175000</td>\n",
       "      <td>11</td>\n",
       "      <td>100</td>\n",
       "      <td>12</td>\n",
       "      <td>1</td>\n",
       "    </tr>\n",
       "    <tr>\n",
       "      <th>4</th>\n",
       "      <td>2023</td>\n",
       "      <td>3</td>\n",
       "      <td>2</td>\n",
       "      <td>47</td>\n",
       "      <td>120000</td>\n",
       "      <td>19</td>\n",
       "      <td>120000</td>\n",
       "      <td>11</td>\n",
       "      <td>100</td>\n",
       "      <td>12</td>\n",
       "      <td>1</td>\n",
       "    </tr>\n",
       "  </tbody>\n",
       "</table>\n",
       "</div>"
      ],
      "text/plain": [
       "   work_year  experience_level  employment_type  job_title  salary  \\\n",
       "0       2023                 3                2         84   80000   \n",
       "1       2023                 2                0         66   30000   \n",
       "2       2023                 2                0         66   25500   \n",
       "3       2023                 3                2         47  175000   \n",
       "4       2023                 3                2         47  120000   \n",
       "\n",
       "   salary_currency  salary_in_usd  employee_residence  remote_ratio  \\\n",
       "0                7          85847                  26           100   \n",
       "1               19          30000                  75           100   \n",
       "2               19          25500                  75           100   \n",
       "3               19         175000                  11           100   \n",
       "4               19         120000                  11           100   \n",
       "\n",
       "   company_location  company_size  \n",
       "0                25             0  \n",
       "1                70             2  \n",
       "2                70             2  \n",
       "3                12             1  \n",
       "4                12             1  "
      ]
     },
     "execution_count": 69,
     "metadata": {},
     "output_type": "execute_result"
    }
   ],
   "source": [
    "df1.head()"
   ]
  },
  {
   "cell_type": "code",
   "execution_count": 70,
   "id": "25cf8c23",
   "metadata": {},
   "outputs": [
    {
     "data": {
      "text/plain": [
       "work_year             int64\n",
       "experience_level      int32\n",
       "employment_type       int32\n",
       "job_title             int32\n",
       "salary                int64\n",
       "salary_currency       int32\n",
       "salary_in_usd         int64\n",
       "employee_residence    int32\n",
       "remote_ratio          int64\n",
       "company_location      int32\n",
       "company_size          int32\n",
       "dtype: object"
      ]
     },
     "execution_count": 70,
     "metadata": {},
     "output_type": "execute_result"
    }
   ],
   "source": [
    "df1.dtypes"
   ]
  },
  {
   "cell_type": "code",
   "execution_count": 71,
   "id": "bac0deed",
   "metadata": {},
   "outputs": [
    {
     "data": {
      "text/plain": [
       "19    2107\n",
       "7      200\n",
       "8      144\n",
       "12      59\n",
       "2       25\n",
       "0        9\n",
       "16       6\n",
       "1        6\n",
       "15       5\n",
       "3        4\n",
       "10       3\n",
       "18       3\n",
       "6        3\n",
       "13       3\n",
       "17       2\n",
       "14       1\n",
       "5        1\n",
       "4        1\n",
       "9        1\n",
       "11       1\n",
       "Name: salary_currency, dtype: int64"
      ]
     },
     "execution_count": 71,
     "metadata": {},
     "output_type": "execute_result"
    }
   ],
   "source": [
    "a = df1['salary_currency'].value_counts()\n",
    "a"
   ]
  },
  {
   "cell_type": "code",
   "execution_count": 72,
   "id": "5bb6779c",
   "metadata": {},
   "outputs": [
    {
     "data": {
      "image/png": "[encoded data removed]",
      "text/plain": [
       "<Figure size 432x288 with 1 Axes>"
      ]
     },
     "metadata": {
      "needs_background": "light"
     },
     "output_type": "display_data"
    }
   ],
   "source": [
    "plt.bar(a.index,a.values)\n",
    "plt.show()"
   ]
  },
  {
   "cell_type": "code",
   "execution_count": 73,
   "id": "ae02d286",
   "metadata": {},
   "outputs": [
    {
     "name": "stdout",
     "output_type": "stream",
     "text": [
      "(2584, 10)\n",
      "(2584,)\n"
     ]
    }
   ],
   "source": [
    "### select x and y\n",
    "\n",
    "x =  df1.drop('salary_currency',axis=1)\n",
    "y = df1['salary_currency']\n",
    "print(x.shape)\n",
    "print(y.shape)"
   ]
  },
  {
   "cell_type": "code",
   "execution_count": 74,
   "id": "442cdde0",
   "metadata": {},
   "outputs": [],
   "source": [
    "### splitting of data \n",
    "\n",
    "from sklearn.model_selection import train_test_split"
   ]
  },
  {
   "cell_type": "code",
   "execution_count": 75,
   "id": "5844b338",
   "metadata": {},
   "outputs": [
    {
     "name": "stdout",
     "output_type": "stream",
     "text": [
      "(1938, 10)\n",
      "(646, 10)\n",
      "(1938,)\n",
      "(646,)\n"
     ]
    }
   ],
   "source": [
    "x_train,x_test,y_train,y_test = train_test_split(x,y,test_size=0.25,random_state=42)\n",
    "print(x_train.shape)\n",
    "print(x_test.shape)\n",
    "print(y_train.shape)\n",
    "print(y_test.shape)"
   ]
  },
  {
   "cell_type": "markdown",
   "id": "164ef8a8",
   "metadata": {},
   "source": [
    "#### Linear kernel"
   ]
  },
  {
   "cell_type": "code",
   "execution_count": 76,
   "id": "eafa07c0",
   "metadata": {},
   "outputs": [],
   "source": [
    "from sklearn.svm import SVC"
   ]
  },
  {
   "cell_type": "code",
   "execution_count": 77,
   "id": "c1b29ddc",
   "metadata": {},
   "outputs": [
    {
     "data": {
      "text/plain": [
       "SVC(C=1, kernel='linear')"
      ]
     },
     "execution_count": 77,
     "metadata": {},
     "output_type": "execute_result"
    }
   ],
   "source": [
    "m1 = SVC(kernel='linear',C=1)\n",
    "m1.fit(x_train,y_train)"
   ]
  },
  {
   "cell_type": "code",
   "execution_count": 78,
   "id": "9b4a70a2",
   "metadata": {},
   "outputs": [
    {
     "name": "stdout",
     "output_type": "stream",
     "text": [
      "Train Score 0.9989680082559339\n",
      "Test Score 0.9891640866873065\n"
     ]
    }
   ],
   "source": [
    "print('Train Score',m1.score(x_train,y_train))  \n",
    "print('Test Score',m1.score(x_test,y_test))    "
   ]
  },
  {
   "cell_type": "code",
   "execution_count": 80,
   "id": "7d0b4165",
   "metadata": {},
   "outputs": [
    {
     "name": "stdout",
     "output_type": "stream",
     "text": [
      "[ 7 19 19 19 19 19 19  8 19  7 19 19 19 19 19 19  8 19 19 19  8 19 12 19\n",
      " 19  2 19 19 19 19 19 19 19 19 19 19 12 19 19 19 19 19  7 19 19 19 19 19\n",
      "  2 19 19 19 19 19 19  7 19 19 19 19 19 19 19 19 19 19 19  8  8  8 19 19\n",
      " 19 19 19 19 19  8 19 19 19 19 19 19 19  8 19 19 19 19 19 19 19 19  1 19\n",
      "  8 19 19  7 19 19 19 19 19  8 19 19 12 19 19 19 19 19 19 19 19 19 19 19\n",
      " 19  7 19  7 19 19 19 19  8 19 19 19 19 19 19 19 19 19 19 19 19 19 19 19\n",
      "  8 19 19  8 19 19  7 19 19 19 19 19 19 19 19 19  7 19 19 19 19 19 19 19\n",
      " 19 19 19 19 19 19 19 19 19 19 19 19  7 19 19 19 19  7 19 19 19 19  2  7\n",
      " 19 19 19 19  7 19 19 19  7  1 19 19 19  7 19 19 19 19 19 19 19 19 19 19\n",
      " 19 19 19 19 19 19 19 19 19 19  7  2 19 19 19 19 19 19 19 19  8  7 19 19\n",
      " 19 19 19 19 12  7 19 19 19 19 19 19 19 19 19 19 19 19 19 19 19 19 19 19\n",
      " 19 19 19 19 19 19 19 19  0 19 12  2 19 19 19 19 19 19 19 19  8 19 19 19\n",
      " 19 19 19 19 19 19 19 19 19 19 19  8 19  7 19 19  7 19 19 19 19 19 19 19\n",
      " 19 19 19 19 19 19 19 19 19 19 19 12 19 19 19  7 19 19 19 19  8  8 19  7\n",
      " 19 19 19 19 19 19 19 19 12 19  8 19 12 19 19 19 19 19 19 19 17 19 19 19\n",
      " 19 19 19  7 19 19  7 19 19 19 19 19 19 19 19 19 19 19 19  7 19 19 19 19\n",
      " 19  7 19 19 12 19 16 19 19 19 19 19 19 19 19 19 19 19 19 19 19 19 19 19\n",
      " 19 19  8 19 19  7 19 19 19  2 12 19 19 19 19 19 19 19 19 19 19 19 19 13\n",
      " 19 19 19 19 19 19  8 19 19 19 19 19 19 19 19 12 19  7 19 19 19 19 19 19\n",
      " 19  8 19 19 19 19 19 19 19 13 19 19 19 19 19 19 19 19 19 19 19 19  7 19\n",
      " 19 19  2 19 19 19 19 19  8 19 19  7 19 19  8 19 19  7  8  7 19 19 19 19\n",
      " 19 19 19 19 19 19 19 19 19 19 18 19 19 19 19 19 19 19 19 19 19 19  7 19\n",
      " 19 19 19 19  8 19 19 19 19  2 19 19 19 19 19 19 19  8 19  7 19 19 19 19\n",
      " 19 12 19 19 12 19 19 19 19 19 19 19 19  8 19 19 19  8  8  7 19  8 19 19\n",
      "  8 19  7 19 19 19 19 19 19 19  7  8 19 19  8 19 16 12 19 19 19  8 19 19\n",
      " 19 19 19 19 19 19 16 19 19 19 19 19 19 19  8 19 19 19 19 19 19 19  7 19\n",
      "  7 19 19 19 19 19 19 19 19 19 19 19 19  8 19 19 19 19 19  2 19  7]\n"
     ]
    }
   ],
   "source": [
    "ypred_m1 = m1.predict(x_test)\n",
    "print(ypred_m1)"
   ]
  },
  {
   "cell_type": "code",
   "execution_count": 81,
   "id": "df32c64a",
   "metadata": {},
   "outputs": [],
   "source": [
    "from sklearn.metrics import confusion_matrix,classification_report"
   ]
  },
  {
   "cell_type": "code",
   "execution_count": 82,
   "id": "e53c5dbb",
   "metadata": {},
   "outputs": [],
   "source": [
    "def eval_model(ytest,ypred):\n",
    "    cm = confusion_matrix(ytest,ypred)\n",
    "    print(cm)\n",
    "    print(classification_report(ytest,ypred))"
   ]
  },
  {
   "cell_type": "code",
   "execution_count": 83,
   "id": "a02f485b",
   "metadata": {
    "scrolled": true
   },
   "outputs": [
    {
     "name": "stdout",
     "output_type": "stream",
     "text": [
      "[[  0   0   1   0   0   0   0   0   0   0   0   0   0   0]\n",
      " [  0   2   0   0   0   0   0   0   0   0   0   0   0   0]\n",
      " [  0   0   7   0   0   0   0   0   0   0   1   0   0   0]\n",
      " [  0   0   0   0   0   1   0   0   0   0   0   0   0   0]\n",
      " [  0   0   0   0   0   0   0   0   0   0   0   0   1   0]\n",
      " [  0   0   0   0   0  39   0   0   0   0   0   0   0   0]\n",
      " [  0   0   0   0   0   0  37   0   0   0   0   0   0   0]\n",
      " [  0   0   0   0   0   0   0   0   0   1   0   0   0   0]\n",
      " [  0   0   0   0   0   0   0   0  14   0   0   0   0   0]\n",
      " [  0   0   0   0   0   0   0   0   0   1   0   0   0   0]\n",
      " [  1   0   1   0   0   0   0   0   0   0   2   0   0   0]\n",
      " [  0   0   0   0   0   0   0   0   0   0   0   1   0   0]\n",
      " [  0   0   0   0   0   0   0   0   0   0   0   0   0   0]\n",
      " [  0   0   0   0   0   0   0   0   0   0   0   0   0 536]]\n",
      "              precision    recall  f1-score   support\n",
      "\n",
      "           0       0.00      0.00      0.00         1\n",
      "           1       1.00      1.00      1.00         2\n",
      "           2       0.78      0.88      0.82         8\n",
      "           3       0.00      0.00      0.00         1\n",
      "           6       0.00      0.00      0.00         1\n",
      "           7       0.97      1.00      0.99        39\n",
      "           8       1.00      1.00      1.00        37\n",
      "          10       0.00      0.00      0.00         1\n",
      "          12       1.00      1.00      1.00        14\n",
      "          13       0.50      1.00      0.67         1\n",
      "          16       0.67      0.50      0.57         4\n",
      "          17       1.00      1.00      1.00         1\n",
      "          18       0.00      0.00      0.00         0\n",
      "          19       1.00      1.00      1.00       536\n",
      "\n",
      "    accuracy                           0.99       646\n",
      "   macro avg       0.57      0.60      0.57       646\n",
      "weighted avg       0.99      0.99      0.99       646\n",
      "\n"
     ]
    },
    {
     "name": "stderr",
     "output_type": "stream",
     "text": [
      "C:\\Users\\Kavitha Ooha\\Anaconda3\\lib\\site-packages\\sklearn\\metrics\\_classification.py:1245: UndefinedMetricWarning: Precision and F-score are ill-defined and being set to 0.0 in labels with no predicted samples. Use `zero_division` parameter to control this behavior.\n",
      "  _warn_prf(average, modifier, msg_start, len(result))\n",
      "C:\\Users\\Kavitha Ooha\\Anaconda3\\lib\\site-packages\\sklearn\\metrics\\_classification.py:1245: UndefinedMetricWarning: Recall and F-score are ill-defined and being set to 0.0 in labels with no true samples. Use `zero_division` parameter to control this behavior.\n",
      "  _warn_prf(average, modifier, msg_start, len(result))\n",
      "C:\\Users\\Kavitha Ooha\\Anaconda3\\lib\\site-packages\\sklearn\\metrics\\_classification.py:1245: UndefinedMetricWarning: Precision and F-score are ill-defined and being set to 0.0 in labels with no predicted samples. Use `zero_division` parameter to control this behavior.\n",
      "  _warn_prf(average, modifier, msg_start, len(result))\n",
      "C:\\Users\\Kavitha Ooha\\Anaconda3\\lib\\site-packages\\sklearn\\metrics\\_classification.py:1245: UndefinedMetricWarning: Recall and F-score are ill-defined and being set to 0.0 in labels with no true samples. Use `zero_division` parameter to control this behavior.\n",
      "  _warn_prf(average, modifier, msg_start, len(result))\n",
      "C:\\Users\\Kavitha Ooha\\Anaconda3\\lib\\site-packages\\sklearn\\metrics\\_classification.py:1245: UndefinedMetricWarning: Precision and F-score are ill-defined and being set to 0.0 in labels with no predicted samples. Use `zero_division` parameter to control this behavior.\n",
      "  _warn_prf(average, modifier, msg_start, len(result))\n",
      "C:\\Users\\Kavitha Ooha\\Anaconda3\\lib\\site-packages\\sklearn\\metrics\\_classification.py:1245: UndefinedMetricWarning: Recall and F-score are ill-defined and being set to 0.0 in labels with no true samples. Use `zero_division` parameter to control this behavior.\n",
      "  _warn_prf(average, modifier, msg_start, len(result))\n"
     ]
    }
   ],
   "source": [
    "eval_model(y_test,ypred_m1)"
   ]
  },
  {
   "cell_type": "markdown",
   "id": "791c8780",
   "metadata": {},
   "source": [
    "#### RBF kernel"
   ]
  },
  {
   "cell_type": "code",
   "execution_count": 84,
   "id": "5529c49e",
   "metadata": {},
   "outputs": [
    {
     "data": {
      "text/plain": [
       "SVC()"
      ]
     },
     "execution_count": 84,
     "metadata": {},
     "output_type": "execute_result"
    }
   ],
   "source": [
    "m1 = SVC(kernel='rbf')\n",
    "m1.fit(x_train,y_train)"
   ]
  },
  {
   "cell_type": "code",
   "execution_count": 85,
   "id": "50f39e52",
   "metadata": {},
   "outputs": [
    {
     "name": "stdout",
     "output_type": "stream",
     "text": [
      "Train Score 0.8353973168214655\n",
      "Test Score 0.8513931888544891\n"
     ]
    }
   ],
   "source": [
    "print('Train Score',m1.score(x_train,y_train))  \n",
    "print('Test Score',m1.score(x_test,y_test))    "
   ]
  },
  {
   "cell_type": "code",
   "execution_count": 86,
   "id": "64a63631",
   "metadata": {},
   "outputs": [
    {
     "name": "stdout",
     "output_type": "stream",
     "text": [
      "[19 19 19 19 19 19 19 19 19 19 19 19 19 19 19 19 19 19 19 19 19 19 12 19\n",
      " 19 19 19 19 19 19 19 19 19 19 19 19 12 19 19 19 19 19 19 19 19 19 19 19\n",
      " 19 19 19 19 19 19 19 19 19 19 19 19 19 19 19 19 19 19 19 19 19 19 19 19\n",
      " 19 19 19 19 19 19 19 19 19 19 19 19 19 19 19 19 19 19 19 19 19 19 19 19\n",
      " 19 19 19 19 19 19 19 19 19 19 19 19 12 19 19 19 19 19 19 19 19 19 19 19\n",
      " 19 19 19 19 19 19 19 19 19 19 19 19 19 19 19 19 19 19 19 19 19 19 19 19\n",
      " 19 19 19 19 19 19 19 19 19 19 19 19 19 19 19 19 19 19 19 19 19 19 19 19\n",
      " 19 19 19 19 19 19 19 19 19 19 19 19 19 19 19 19 19 19 19 19 19 19 19 19\n",
      " 19 19 19 19 19 19 19 19 19 19 19 19 19 19 19 19 19 19 19 19 19 19 19 19\n",
      " 19 19 19 19 19 19 19 19 19 19 19 19 19 19 19 19 19 19 19 19 19 19 19 19\n",
      " 19 19 19 19 12 19 19 19 19 19 19 19 19 19 19 19 19 19 19 19 19 19 19 19\n",
      " 19 19 19 19 19 19 19 19 19 19 12 19 19 19 19 19 19 19 19 19 19 19 19 19\n",
      " 19 19 19 19 19 19 19 19 19 19 19 19 19 19 19 19 19 19 19 19 19 19 19 19\n",
      " 19 19 19 19 19 19 19 19 19 19 19 12 19 19 19 19 19 19 19 19 19 19 19 19\n",
      " 19 19 19 19 19 19 19 19 12 19 19 19 12 19 19 19 19 19 19 19 12 19 19 19\n",
      " 19 19 19 19 19 19 19 19 19 19 19 19 19 19 19 19 19 19 19 19 19 19 19 19\n",
      " 19 19 19 19 12 19 19 19 19 19 19 19 19 19 19 19 19 19 19 19 19 19 19 19\n",
      " 19 19 19 19 19 19 19 19 19 19 12 19 19 19 19 19 19 19 19 19 19 19 19 12\n",
      " 19 19 19 19 19 19 19 19 19 19 19 19 19 19 19 12 19 19 19 19 19 19 19 19\n",
      " 19 19 19 19 19 19 19 19 19 12 19 19 19 19 19 19 19 19 19 19 19 19 19 19\n",
      " 19 19 19 19 19 19 19 19 19 19 19 19 19 19 19 19 19 19 19 19 19 19 19 19\n",
      " 19 19 19 19 19 19 19 19 19 19 19 19 19 19 19 19 19 19 19 19 19 19 19 19\n",
      " 19 19 19 19 19 19 19 19 19 19 19 19 19 19 19 19 19 19 19 19 19 19 19 19\n",
      " 19 12 19 19 12 19 19 19 19 19 19 19 19 19 19 19 19 19 19 19 19 19 19 19\n",
      " 19 19 19 19 19 19 19 19 19 19 19 19 19 19 19 19 19 12 19 19 19 19 19 19\n",
      " 19 19 19 19 19 19 19 19 19 19 19 19 19 19 19 19 19 19 19 19 19 19 19 19\n",
      " 19 19 19 19 19 19 19 19 19 19 19 19 19 19 19 19 19 19 19 19 19 19]\n"
     ]
    }
   ],
   "source": [
    "ypred_m1 = m1.predict(x_test)\n",
    "print(ypred_m1)"
   ]
  },
  {
   "cell_type": "code",
   "execution_count": 87,
   "id": "8dde9b76",
   "metadata": {},
   "outputs": [],
   "source": [
    "from sklearn.metrics import confusion_matrix,classification_report"
   ]
  },
  {
   "cell_type": "code",
   "execution_count": 88,
   "id": "96faab5a",
   "metadata": {},
   "outputs": [],
   "source": [
    "def eval_model(ytest,ypred):\n",
    "    cm = confusion_matrix(ytest,ypred)\n",
    "    print(cm)\n",
    "    print(classification_report(ytest,ypred))"
   ]
  },
  {
   "cell_type": "code",
   "execution_count": 89,
   "id": "22eb16a2",
   "metadata": {},
   "outputs": [
    {
     "name": "stdout",
     "output_type": "stream",
     "text": [
      "[[  0   0   0   0   0   0   0   0   0   0   0   0   1]\n",
      " [  0   0   0   0   0   0   0   0   0   0   0   0   2]\n",
      " [  0   0   0   0   0   0   0   0   0   0   0   0   8]\n",
      " [  0   0   0   0   0   0   0   0   0   0   0   0   1]\n",
      " [  0   0   0   0   0   0   0   0   0   0   0   0   1]\n",
      " [  0   0   0   0   0   0   0   0   0   0   0   0  39]\n",
      " [  0   0   0   0   0   0   0   0   0   0   0   0  37]\n",
      " [  0   0   0   0   0   0   0   0   1   0   0   0   0]\n",
      " [  0   0   0   0   0   0   0   0  14   0   0   0   0]\n",
      " [  0   0   0   0   0   0   0   0   1   0   0   0   0]\n",
      " [  0   0   0   0   0   0   0   0   0   0   0   0   4]\n",
      " [  0   0   0   0   0   0   0   0   1   0   0   0   0]\n",
      " [  0   0   0   0   0   0   0   0   0   0   0   0 536]]\n",
      "              precision    recall  f1-score   support\n",
      "\n",
      "           0       0.00      0.00      0.00         1\n",
      "           1       0.00      0.00      0.00         2\n",
      "           2       0.00      0.00      0.00         8\n",
      "           3       0.00      0.00      0.00         1\n",
      "           6       0.00      0.00      0.00         1\n",
      "           7       0.00      0.00      0.00        39\n",
      "           8       0.00      0.00      0.00        37\n",
      "          10       0.00      0.00      0.00         1\n",
      "          12       0.82      1.00      0.90        14\n",
      "          13       0.00      0.00      0.00         1\n",
      "          16       0.00      0.00      0.00         4\n",
      "          17       0.00      0.00      0.00         1\n",
      "          19       0.85      1.00      0.92       536\n",
      "\n",
      "    accuracy                           0.85       646\n",
      "   macro avg       0.13      0.15      0.14       646\n",
      "weighted avg       0.72      0.85      0.78       646\n",
      "\n"
     ]
    },
    {
     "name": "stderr",
     "output_type": "stream",
     "text": [
      "C:\\Users\\Kavitha Ooha\\Anaconda3\\lib\\site-packages\\sklearn\\metrics\\_classification.py:1245: UndefinedMetricWarning: Precision and F-score are ill-defined and being set to 0.0 in labels with no predicted samples. Use `zero_division` parameter to control this behavior.\n",
      "  _warn_prf(average, modifier, msg_start, len(result))\n",
      "C:\\Users\\Kavitha Ooha\\Anaconda3\\lib\\site-packages\\sklearn\\metrics\\_classification.py:1245: UndefinedMetricWarning: Precision and F-score are ill-defined and being set to 0.0 in labels with no predicted samples. Use `zero_division` parameter to control this behavior.\n",
      "  _warn_prf(average, modifier, msg_start, len(result))\n",
      "C:\\Users\\Kavitha Ooha\\Anaconda3\\lib\\site-packages\\sklearn\\metrics\\_classification.py:1245: UndefinedMetricWarning: Precision and F-score are ill-defined and being set to 0.0 in labels with no predicted samples. Use `zero_division` parameter to control this behavior.\n",
      "  _warn_prf(average, modifier, msg_start, len(result))\n"
     ]
    }
   ],
   "source": [
    "eval_model(y_test,ypred_m1)"
   ]
  },
  {
   "cell_type": "markdown",
   "id": "5e1a7499",
   "metadata": {},
   "source": [
    "## Decision Tree classifier"
   ]
  },
  {
   "cell_type": "code",
   "execution_count": 90,
   "id": "b1341cb0",
   "metadata": {},
   "outputs": [
    {
     "data": {
      "text/html": [
       "<div>\n",
       "<style scoped>\n",
       "    .dataframe tbody tr th:only-of-type {\n",
       "        vertical-align: middle;\n",
       "    }\n",
       "\n",
       "    .dataframe tbody tr th {\n",
       "        vertical-align: top;\n",
       "    }\n",
       "\n",
       "    .dataframe thead th {\n",
       "        text-align: right;\n",
       "    }\n",
       "</style>\n",
       "<table border=\"1\" class=\"dataframe\">\n",
       "  <thead>\n",
       "    <tr style=\"text-align: right;\">\n",
       "      <th></th>\n",
       "      <th>work_year</th>\n",
       "      <th>experience_level</th>\n",
       "      <th>employment_type</th>\n",
       "      <th>job_title</th>\n",
       "      <th>salary</th>\n",
       "      <th>salary_currency</th>\n",
       "      <th>salary_in_usd</th>\n",
       "      <th>employee_residence</th>\n",
       "      <th>remote_ratio</th>\n",
       "      <th>company_location</th>\n",
       "      <th>company_size</th>\n",
       "    </tr>\n",
       "  </thead>\n",
       "  <tbody>\n",
       "    <tr>\n",
       "      <th>0</th>\n",
       "      <td>2023</td>\n",
       "      <td>3</td>\n",
       "      <td>2</td>\n",
       "      <td>84</td>\n",
       "      <td>80000</td>\n",
       "      <td>7</td>\n",
       "      <td>85847</td>\n",
       "      <td>26</td>\n",
       "      <td>100</td>\n",
       "      <td>25</td>\n",
       "      <td>0</td>\n",
       "    </tr>\n",
       "    <tr>\n",
       "      <th>1</th>\n",
       "      <td>2023</td>\n",
       "      <td>2</td>\n",
       "      <td>0</td>\n",
       "      <td>66</td>\n",
       "      <td>30000</td>\n",
       "      <td>19</td>\n",
       "      <td>30000</td>\n",
       "      <td>75</td>\n",
       "      <td>100</td>\n",
       "      <td>70</td>\n",
       "      <td>2</td>\n",
       "    </tr>\n",
       "    <tr>\n",
       "      <th>2</th>\n",
       "      <td>2023</td>\n",
       "      <td>2</td>\n",
       "      <td>0</td>\n",
       "      <td>66</td>\n",
       "      <td>25500</td>\n",
       "      <td>19</td>\n",
       "      <td>25500</td>\n",
       "      <td>75</td>\n",
       "      <td>100</td>\n",
       "      <td>70</td>\n",
       "      <td>2</td>\n",
       "    </tr>\n",
       "    <tr>\n",
       "      <th>3</th>\n",
       "      <td>2023</td>\n",
       "      <td>3</td>\n",
       "      <td>2</td>\n",
       "      <td>47</td>\n",
       "      <td>175000</td>\n",
       "      <td>19</td>\n",
       "      <td>175000</td>\n",
       "      <td>11</td>\n",
       "      <td>100</td>\n",
       "      <td>12</td>\n",
       "      <td>1</td>\n",
       "    </tr>\n",
       "    <tr>\n",
       "      <th>4</th>\n",
       "      <td>2023</td>\n",
       "      <td>3</td>\n",
       "      <td>2</td>\n",
       "      <td>47</td>\n",
       "      <td>120000</td>\n",
       "      <td>19</td>\n",
       "      <td>120000</td>\n",
       "      <td>11</td>\n",
       "      <td>100</td>\n",
       "      <td>12</td>\n",
       "      <td>1</td>\n",
       "    </tr>\n",
       "  </tbody>\n",
       "</table>\n",
       "</div>"
      ],
      "text/plain": [
       "   work_year  experience_level  employment_type  job_title  salary  \\\n",
       "0       2023                 3                2         84   80000   \n",
       "1       2023                 2                0         66   30000   \n",
       "2       2023                 2                0         66   25500   \n",
       "3       2023                 3                2         47  175000   \n",
       "4       2023                 3                2         47  120000   \n",
       "\n",
       "   salary_currency  salary_in_usd  employee_residence  remote_ratio  \\\n",
       "0                7          85847                  26           100   \n",
       "1               19          30000                  75           100   \n",
       "2               19          25500                  75           100   \n",
       "3               19         175000                  11           100   \n",
       "4               19         120000                  11           100   \n",
       "\n",
       "   company_location  company_size  \n",
       "0                25             0  \n",
       "1                70             2  \n",
       "2                70             2  \n",
       "3                12             1  \n",
       "4                12             1  "
      ]
     },
     "execution_count": 90,
     "metadata": {},
     "output_type": "execute_result"
    }
   ],
   "source": [
    "df1.head()"
   ]
  },
  {
   "cell_type": "code",
   "execution_count": 91,
   "id": "1d9288ef",
   "metadata": {},
   "outputs": [
    {
     "data": {
      "text/plain": [
       "2    2547\n",
       "3      17\n",
       "0      10\n",
       "1      10\n",
       "Name: employment_type, dtype: int64"
      ]
     },
     "execution_count": 91,
     "metadata": {},
     "output_type": "execute_result"
    }
   ],
   "source": [
    "df1['employment_type'].value_counts()"
   ]
  },
  {
   "cell_type": "code",
   "execution_count": 92,
   "id": "e15d77dd",
   "metadata": {},
   "outputs": [
    {
     "name": "stdout",
     "output_type": "stream",
     "text": [
      "(2584, 10)\n",
      "(2584,)\n"
     ]
    }
   ],
   "source": [
    "# select x and y\n",
    "x1 = df1.drop('employment_type',axis=1)\n",
    "y1 = df1['employment_type']\n",
    "print(x1.shape)\n",
    "print(y1.shape)"
   ]
  },
  {
   "cell_type": "code",
   "execution_count": 93,
   "id": "e84c4421",
   "metadata": {},
   "outputs": [],
   "source": [
    "from sklearn.model_selection import train_test_split"
   ]
  },
  {
   "cell_type": "code",
   "execution_count": 94,
   "id": "3ee0ba79",
   "metadata": {},
   "outputs": [
    {
     "name": "stdout",
     "output_type": "stream",
     "text": [
      "(1938, 10)\n",
      "(646, 10)\n",
      "(1938,)\n",
      "(646,)\n"
     ]
    }
   ],
   "source": [
    "x_train,x_test,y_train,y_test = train_test_split(x1,y1,test_size=0.25,random_state=42)\n",
    "print(x_train.shape)\n",
    "print(x_test.shape)\n",
    "print(y_train.shape)\n",
    "print(y_test.shape)"
   ]
  },
  {
   "cell_type": "code",
   "execution_count": 95,
   "id": "f79faaef",
   "metadata": {},
   "outputs": [],
   "source": [
    "from sklearn.tree import DecisionTreeClassifier"
   ]
  },
  {
   "cell_type": "code",
   "execution_count": 96,
   "id": "2ae69e4f",
   "metadata": {},
   "outputs": [
    {
     "data": {
      "text/plain": [
       "DecisionTreeClassifier(criterion='entropy', max_depth=7, min_samples_split=10)"
      ]
     },
     "execution_count": 96,
     "metadata": {},
     "output_type": "execute_result"
    }
   ],
   "source": [
    "m1 = DecisionTreeClassifier(criterion='entropy',min_samples_split=10,max_depth=7)\n",
    "m1.fit(x_train,y_train)"
   ]
  },
  {
   "cell_type": "code",
   "execution_count": 97,
   "id": "b53eadc3",
   "metadata": {},
   "outputs": [
    {
     "name": "stdout",
     "output_type": "stream",
     "text": [
      "Train Score 0.9938080495356038\n",
      "Test Score 0.9721362229102167\n"
     ]
    }
   ],
   "source": [
    "print('Train Score',m1.score(x_train,y_train))  # Train Acc\n",
    "print('Test Score',m1.score(x_test,y_test))     # Test Acc"
   ]
  },
  {
   "cell_type": "code",
   "execution_count": 98,
   "id": "ab064465",
   "metadata": {},
   "outputs": [
    {
     "name": "stdout",
     "output_type": "stream",
     "text": [
      "[2 2 2 2 2 2 2 2 2 2 2 2 2 2 2 2 2 2 2 2 2 2 2 0 2 2 2 2 2 2 2 2 2 2 2 2 2\n",
      " 2 2 2 0 2 2 2 2 2 2 2 2 2 2 2 2 2 2 2 2 2 2 2 2 2 2 2 2 2 2 2 2 2 2 2 2 2\n",
      " 2 2 2 2 2 2 2 2 2 2 2 2 2 2 2 2 2 2 2 2 2 2 2 2 2 2 2 2 2 2 2 2 2 2 2 2 2\n",
      " 2 2 2 2 2 2 2 2 2 2 2 2 2 2 2 2 2 2 2 2 2 2 2 2 2 2 2 2 2 2 2 2 2 2 2 2 2\n",
      " 2 2 2 2 2 2 2 2 2 2 2 2 2 2 2 2 2 2 2 2 2 2 2 2 1 2 2 2 3 2 2 2 2 2 2 2 2\n",
      " 2 2 2 2 2 2 2 2 2 2 2 2 2 2 2 2 2 2 2 2 2 2 2 2 2 2 2 2 2 2 2 2 2 2 2 2 2\n",
      " 2 2 2 2 2 2 2 2 2 2 2 2 2 2 2 2 2 2 2 2 2 2 2 2 2 2 2 2 2 2 2 2 2 2 2 2 2\n",
      " 2 2 2 2 2 2 2 2 2 2 2 2 2 2 2 2 2 2 2 2 2 2 2 2 2 2 2 2 2 2 2 2 2 2 2 2 2\n",
      " 2 2 2 2 2 2 2 2 2 2 2 2 2 2 2 2 2 2 2 2 2 2 2 2 2 2 2 2 2 2 2 2 2 2 2 2 2\n",
      " 2 2 2 2 2 2 2 2 2 2 2 2 2 2 2 2 2 2 2 2 2 2 2 2 2 2 2 2 2 2 2 2 2 2 2 2 2\n",
      " 2 2 2 2 2 2 2 2 2 2 2 2 2 2 2 2 2 2 2 2 2 2 2 2 2 2 2 2 2 2 2 2 2 2 2 2 0\n",
      " 2 2 2 2 2 2 2 2 2 2 2 2 2 2 2 2 2 2 2 2 2 2 2 2 2 2 2 2 2 2 2 2 2 2 2 2 2\n",
      " 2 2 2 2 2 2 2 2 2 2 2 2 2 2 2 2 2 2 2 2 2 2 2 2 2 2 2 2 2 2 2 2 2 2 2 2 2\n",
      " 2 2 2 2 2 2 2 2 2 2 2 2 2 2 2 2 2 2 2 2 2 2 2 2 2 2 2 2 2 2 2 2 2 3 2 2 2\n",
      " 2 2 2 2 2 2 2 2 2 2 2 2 2 2 2 2 2 2 2 2 2 2 2 2 2 2 2 2 2 2 2 2 2 2 2 2 2\n",
      " 2 2 2 2 2 2 2 2 2 2 2 2 2 2 2 2 2 2 2 2 2 2 2 2 2 2 2 2 2 2 2 2 2 2 2 2 2\n",
      " 2 2 2 2 2 2 2 2 2 2 2 2 2 2 2 2 2 2 2 2 2 2 2 2 2 2 2 2 2 2 2 2 2 2 2 2 2\n",
      " 2 2 2 2 2 2 2 2 2 2 2 2 0 2 2 2 2]\n"
     ]
    }
   ],
   "source": [
    "ypred_m1 = m1.predict(x_test)\n",
    "print(ypred_m1)"
   ]
  },
  {
   "cell_type": "code",
   "execution_count": 99,
   "id": "688e2298",
   "metadata": {},
   "outputs": [
    {
     "name": "stdout",
     "output_type": "stream",
     "text": [
      "[[  0   0   3   0]\n",
      " [  0   0   4   0]\n",
      " [  4   1 627   1]\n",
      " [  0   0   5   1]]\n",
      "              precision    recall  f1-score   support\n",
      "\n",
      "           0       0.00      0.00      0.00         3\n",
      "           1       0.00      0.00      0.00         4\n",
      "           2       0.98      0.99      0.99       633\n",
      "           3       0.50      0.17      0.25         6\n",
      "\n",
      "    accuracy                           0.97       646\n",
      "   macro avg       0.37      0.29      0.31       646\n",
      "weighted avg       0.97      0.97      0.97       646\n",
      "\n"
     ]
    }
   ],
   "source": [
    "from sklearn.metrics import confusion_matrix,classification_report\n",
    "def eval_model(ytest,ypred):\n",
    "    cm = confusion_matrix(ytest,ypred)\n",
    "    print(cm)\n",
    "    print(classification_report(ytest,ypred))\n",
    "    \n",
    "eval_model(y_test,ypred_m1)    "
   ]
  },
  {
   "cell_type": "code",
   "execution_count": 100,
   "id": "7293db66",
   "metadata": {},
   "outputs": [
    {
     "name": "stdout",
     "output_type": "stream",
     "text": [
      "Index(['work_year', 'experience_level', 'job_title', 'salary',\n",
      "       'salary_currency', 'salary_in_usd', 'employee_residence',\n",
      "       'remote_ratio', 'company_location', 'company_size'],\n",
      "      dtype='object')\n",
      "['0', '1', '2', '3']\n"
     ]
    }
   ],
   "source": [
    "fn = x_train.columns\n",
    "cn = ['0','1','2','3']\n",
    "print(fn)\n",
    "print(cn)"
   ]
  },
  {
   "cell_type": "code",
   "execution_count": 101,
   "id": "a92c1414",
   "metadata": {},
   "outputs": [
    {
     "data": {
      "image/png": "[encoded data removed]",
      "text/plain": [
       "<Figure size 432x288 with 1 Axes>"
      ]
     },
     "metadata": {
      "needs_background": "light"
     },
     "output_type": "display_data"
    }
   ],
   "source": [
    "from sklearn.tree import plot_tree\n",
    "plot_tree(m1,feature_names=fn,class_names=cn,filled=True)\n",
    "plt.show()"
   ]
  },
  {
   "cell_type": "markdown",
   "id": "a37a4b96",
   "metadata": {},
   "source": [
    "##  Random Forest Classifier"
   ]
  },
  {
   "cell_type": "code",
   "execution_count": 102,
   "id": "e32e4002",
   "metadata": {},
   "outputs": [],
   "source": [
    "import pandas as pd\n",
    "import numpy as np\n",
    "import matplotlib.pyplot as plt"
   ]
  },
  {
   "cell_type": "code",
   "execution_count": 103,
   "id": "f3fb97f6",
   "metadata": {},
   "outputs": [
    {
     "data": {
      "text/html": [
       "<div>\n",
       "<style scoped>\n",
       "    .dataframe tbody tr th:only-of-type {\n",
       "        vertical-align: middle;\n",
       "    }\n",
       "\n",
       "    .dataframe tbody tr th {\n",
       "        vertical-align: top;\n",
       "    }\n",
       "\n",
       "    .dataframe thead th {\n",
       "        text-align: right;\n",
       "    }\n",
       "</style>\n",
       "<table border=\"1\" class=\"dataframe\">\n",
       "  <thead>\n",
       "    <tr style=\"text-align: right;\">\n",
       "      <th></th>\n",
       "      <th>work_year</th>\n",
       "      <th>experience_level</th>\n",
       "      <th>employment_type</th>\n",
       "      <th>job_title</th>\n",
       "      <th>salary</th>\n",
       "      <th>salary_currency</th>\n",
       "      <th>salary_in_usd</th>\n",
       "      <th>employee_residence</th>\n",
       "      <th>remote_ratio</th>\n",
       "      <th>company_location</th>\n",
       "      <th>company_size</th>\n",
       "    </tr>\n",
       "  </thead>\n",
       "  <tbody>\n",
       "    <tr>\n",
       "      <th>0</th>\n",
       "      <td>2023</td>\n",
       "      <td>3</td>\n",
       "      <td>2</td>\n",
       "      <td>84</td>\n",
       "      <td>80000</td>\n",
       "      <td>7</td>\n",
       "      <td>85847</td>\n",
       "      <td>26</td>\n",
       "      <td>100</td>\n",
       "      <td>25</td>\n",
       "      <td>0</td>\n",
       "    </tr>\n",
       "    <tr>\n",
       "      <th>1</th>\n",
       "      <td>2023</td>\n",
       "      <td>2</td>\n",
       "      <td>0</td>\n",
       "      <td>66</td>\n",
       "      <td>30000</td>\n",
       "      <td>19</td>\n",
       "      <td>30000</td>\n",
       "      <td>75</td>\n",
       "      <td>100</td>\n",
       "      <td>70</td>\n",
       "      <td>2</td>\n",
       "    </tr>\n",
       "    <tr>\n",
       "      <th>2</th>\n",
       "      <td>2023</td>\n",
       "      <td>2</td>\n",
       "      <td>0</td>\n",
       "      <td>66</td>\n",
       "      <td>25500</td>\n",
       "      <td>19</td>\n",
       "      <td>25500</td>\n",
       "      <td>75</td>\n",
       "      <td>100</td>\n",
       "      <td>70</td>\n",
       "      <td>2</td>\n",
       "    </tr>\n",
       "    <tr>\n",
       "      <th>3</th>\n",
       "      <td>2023</td>\n",
       "      <td>3</td>\n",
       "      <td>2</td>\n",
       "      <td>47</td>\n",
       "      <td>175000</td>\n",
       "      <td>19</td>\n",
       "      <td>175000</td>\n",
       "      <td>11</td>\n",
       "      <td>100</td>\n",
       "      <td>12</td>\n",
       "      <td>1</td>\n",
       "    </tr>\n",
       "    <tr>\n",
       "      <th>4</th>\n",
       "      <td>2023</td>\n",
       "      <td>3</td>\n",
       "      <td>2</td>\n",
       "      <td>47</td>\n",
       "      <td>120000</td>\n",
       "      <td>19</td>\n",
       "      <td>120000</td>\n",
       "      <td>11</td>\n",
       "      <td>100</td>\n",
       "      <td>12</td>\n",
       "      <td>1</td>\n",
       "    </tr>\n",
       "  </tbody>\n",
       "</table>\n",
       "</div>"
      ],
      "text/plain": [
       "   work_year  experience_level  employment_type  job_title  salary  \\\n",
       "0       2023                 3                2         84   80000   \n",
       "1       2023                 2                0         66   30000   \n",
       "2       2023                 2                0         66   25500   \n",
       "3       2023                 3                2         47  175000   \n",
       "4       2023                 3                2         47  120000   \n",
       "\n",
       "   salary_currency  salary_in_usd  employee_residence  remote_ratio  \\\n",
       "0                7          85847                  26           100   \n",
       "1               19          30000                  75           100   \n",
       "2               19          25500                  75           100   \n",
       "3               19         175000                  11           100   \n",
       "4               19         120000                  11           100   \n",
       "\n",
       "   company_location  company_size  \n",
       "0                25             0  \n",
       "1                70             2  \n",
       "2                70             2  \n",
       "3                12             1  \n",
       "4                12             1  "
      ]
     },
     "execution_count": 103,
     "metadata": {},
     "output_type": "execute_result"
    }
   ],
   "source": [
    "df1.head()"
   ]
  },
  {
   "cell_type": "code",
   "execution_count": 104,
   "id": "7f268b4e",
   "metadata": {},
   "outputs": [
    {
     "data": {
      "text/plain": [
       "work_year             0\n",
       "experience_level      0\n",
       "employment_type       0\n",
       "job_title             0\n",
       "salary                0\n",
       "salary_currency       0\n",
       "salary_in_usd         0\n",
       "employee_residence    0\n",
       "remote_ratio          0\n",
       "company_location      0\n",
       "company_size          0\n",
       "dtype: int64"
      ]
     },
     "execution_count": 104,
     "metadata": {},
     "output_type": "execute_result"
    }
   ],
   "source": [
    "df1.isnull().sum()"
   ]
  },
  {
   "cell_type": "code",
   "execution_count": 105,
   "id": "7f3d2454",
   "metadata": {},
   "outputs": [
    {
     "data": {
      "text/plain": [
       "0"
      ]
     },
     "execution_count": 105,
     "metadata": {},
     "output_type": "execute_result"
    }
   ],
   "source": [
    "df1.duplicated().sum()"
   ]
  },
  {
   "cell_type": "code",
   "execution_count": 106,
   "id": "00bd5d53",
   "metadata": {},
   "outputs": [
    {
     "data": {
      "text/plain": [
       "work_year             int64\n",
       "experience_level      int32\n",
       "employment_type       int32\n",
       "job_title             int32\n",
       "salary                int64\n",
       "salary_currency       int32\n",
       "salary_in_usd         int64\n",
       "employee_residence    int32\n",
       "remote_ratio          int64\n",
       "company_location      int32\n",
       "company_size          int32\n",
       "dtype: object"
      ]
     },
     "execution_count": 106,
     "metadata": {},
     "output_type": "execute_result"
    }
   ],
   "source": [
    "df1.dtypes"
   ]
  },
  {
   "cell_type": "code",
   "execution_count": 108,
   "id": "ee7d6064",
   "metadata": {},
   "outputs": [
    {
     "data": {
      "text/plain": [
       "100000    70\n",
       "120000    59\n",
       "150000    58\n",
       "200000    48\n",
       "80000     46\n",
       "          ..\n",
       "182200     1\n",
       "256000     1\n",
       "83376      1\n",
       "186300     1\n",
       "147800     1\n",
       "Name: salary, Length: 815, dtype: int64"
      ]
     },
     "execution_count": 108,
     "metadata": {},
     "output_type": "execute_result"
    }
   ],
   "source": [
    "df1['salary'].value_counts()"
   ]
  },
  {
   "cell_type": "code",
   "execution_count": 109,
   "id": "3979c4e8",
   "metadata": {},
   "outputs": [
    {
     "name": "stdout",
     "output_type": "stream",
     "text": [
      "<class 'pandas.core.frame.DataFrame'>\n",
      "<class 'pandas.core.series.Series'>\n",
      "(2584, 10)\n",
      "(2584,)\n"
     ]
    }
   ],
   "source": [
    "### selecting x and y\n",
    "\n",
    "x1 = df1.drop('salary',axis=1)\n",
    "y1 = df1['salary']\n",
    "print(type(x1))\n",
    "print(type(y1))\n",
    "print(x1.shape)\n",
    "print(y1.shape)"
   ]
  },
  {
   "cell_type": "code",
   "execution_count": 110,
   "id": "a6ffebf4",
   "metadata": {},
   "outputs": [],
   "source": [
    "#### splitting of data\n",
    "\n",
    "from sklearn.model_selection import train_test_split"
   ]
  },
  {
   "cell_type": "code",
   "execution_count": 112,
   "id": "9209093f",
   "metadata": {},
   "outputs": [
    {
     "name": "stdout",
     "output_type": "stream",
     "text": [
      "(1938, 10)\n",
      "(646, 10)\n",
      "(1938,)\n",
      "(646,)\n"
     ]
    }
   ],
   "source": [
    "x_train,x_test,y_train,y_test = train_test_split(x1,y1,test_size=0.25,random_state=42)\n",
    "print(x_train.shape)\n",
    "print(x_test.shape)\n",
    "print(y_train.shape)\n",
    "print(y_test.shape)"
   ]
  },
  {
   "cell_type": "code",
   "execution_count": 115,
   "id": "e8c877d7",
   "metadata": {},
   "outputs": [],
   "source": [
    "from sklearn.metrics import confusion_matrix, classification_report,accuracy_score"
   ]
  },
  {
   "cell_type": "code",
   "execution_count": 116,
   "id": "728a5bcc",
   "metadata": {},
   "outputs": [],
   "source": [
    "def gen_model(model,x_train,x_test,y_train,y_test):\n",
    "    model.fit(x_train,y_train)\n",
    "    print('Train Score',model.score(x_train,y_train))\n",
    "    print('Test Score',model.score(x_test,y_test))\n",
    "    ypred = model.predict(x_test)\n",
    "    cm = confusion_matrix(y_test,ypred)\n",
    "    print(cm)\n",
    "    print(classification_report(y_test,ypred))"
   ]
  },
  {
   "cell_type": "code",
   "execution_count": 113,
   "id": "266e892c",
   "metadata": {},
   "outputs": [],
   "source": [
    "from sklearn.tree import DecisionTreeClassifier\n",
    "from sklearn.ensemble import RandomForestClassifier"
   ]
  },
  {
   "cell_type": "code",
   "execution_count": 118,
   "id": "5db4abb5",
   "metadata": {},
   "outputs": [
    {
     "name": "stdout",
     "output_type": "stream",
     "text": [
      "Train Score 0.6006191950464397\n",
      "Test Score 0.47832817337461303\n",
      "[[0 0 0 ... 0 0 0]\n",
      " [1 0 0 ... 0 0 0]\n",
      " [0 0 0 ... 0 0 0]\n",
      " ...\n",
      " [0 0 0 ... 0 0 0]\n",
      " [0 0 0 ... 0 0 0]\n",
      " [0 0 0 ... 0 0 0]]\n",
      "              precision    recall  f1-score   support\n",
      "\n",
      "        8000       0.00      0.00      0.00         0\n",
      "        9272       0.00      0.00      0.00         1\n",
      "       10000       0.00      0.00      0.00         2\n",
      "       12000       0.25      1.00      0.40         1\n",
      "       13000       0.00      0.00      0.00         0\n",
      "       15000       0.00      0.00      0.00         0\n",
      "       19000       0.00      0.00      0.00         1\n",
      "       20000       0.60      1.00      0.75         3\n",
      "       21000       0.00      0.00      0.00         1\n",
      "       22000       0.00      0.00      0.00         1\n",
      "       23000       0.00      0.00      0.00         0\n",
      "       24000       0.67      1.00      0.80         2\n",
      "       25000       0.00      0.00      0.00         1\n",
      "       28500       0.00      0.00      0.00         1\n",
      "       30000       0.22      1.00      0.36         2\n",
      "       31000       0.00      0.00      0.00         1\n",
      "       33000       0.00      0.00      0.00         3\n",
      "       34000       0.00      0.00      0.00         0\n",
      "       35000       0.00      0.00      0.00         2\n",
      "       36000       0.00      0.00      0.00         2\n",
      "       38000       0.00      0.00      0.00         1\n",
      "       38400       0.00      0.00      0.00         2\n",
      "       39600       0.00      0.00      0.00         1\n",
      "       40000       0.30      0.75      0.43         4\n",
      "       40300       0.00      0.00      0.00         1\n",
      "       42000       0.25      0.50      0.33         2\n",
      "       43200       0.00      0.00      0.00         1\n",
      "       44000       0.00      0.00      0.00         1\n",
      "       45000       0.00      0.00      0.00         5\n",
      "       47500       0.00      0.00      0.00         1\n",
      "       48000       0.00      0.00      0.00         6\n",
      "       50000       0.54      1.00      0.70        13\n",
      "       52000       0.00      0.00      0.00         2\n",
      "       52500       0.00      0.00      0.00         5\n",
      "       54000       0.00      0.00      0.00         1\n",
      "       55000       0.06      1.00      0.11         1\n",
      "       57000       0.00      0.00      0.00         2\n",
      "       58000       0.00      0.00      0.00         2\n",
      "       59000       0.00      0.00      0.00         3\n",
      "       60000       0.45      0.71      0.56         7\n",
      "       61000       0.00      0.00      0.00         1\n",
      "       62000       0.00      0.00      0.00         1\n",
      "       62500       0.00      0.00      0.00         1\n",
      "       63000       1.00      1.00      1.00         2\n",
      "       64000       0.00      0.00      0.00         0\n",
      "       64200       0.00      0.00      0.00         1\n",
      "       65000       0.50      0.83      0.62         6\n",
      "       65488       0.00      0.00      0.00         0\n",
      "       66000       0.00      0.00      0.00         3\n",
      "       68000       0.00      0.00      0.00         1\n",
      "       70000       1.00      0.83      0.91        12\n",
      "       72000       0.17      0.33      0.22         3\n",
      "       72500       0.00      0.00      0.00         1\n",
      "       73000       0.00      0.00      0.00         1\n",
      "       74178       0.00      0.00      0.00         1\n",
      "       74540       0.00      0.00      0.00         2\n",
      "       75000       0.57      0.89      0.70         9\n",
      "       76000       0.00      0.00      0.00         1\n",
      "       77300       0.00      0.00      0.00         1\n",
      "       78000       0.33      1.00      0.50         1\n",
      "       79000       0.00      0.00      0.00         1\n",
      "       80000       0.73      1.00      0.84         8\n",
      "       81500       0.00      0.00      0.00         2\n",
      "       81666       0.00      0.00      0.00         1\n",
      "       82900       0.00      0.00      0.00         1\n",
      "       83300       0.00      0.00      0.00         1\n",
      "       83500       0.00      0.00      0.00         1\n",
      "       84000       0.00      0.00      0.00         0\n",
      "       84570       0.00      0.00      0.00         1\n",
      "       85000       0.50      0.75      0.60         8\n",
      "       86000       0.00      0.00      0.00         1\n",
      "       87000       0.00      0.00      0.00         0\n",
      "       90000       1.00      0.77      0.87        13\n",
      "       90320       1.00      1.00      1.00         1\n",
      "       93000       0.00      0.00      0.00         1\n",
      "       94000       1.00      1.00      1.00         2\n",
      "       94500       0.00      0.00      0.00         1\n",
      "       95000       0.58      0.78      0.67         9\n",
      "       96100       0.00      0.00      0.00         1\n",
      "       97000       0.00      0.00      0.00         1\n",
      "       98000       0.00      0.00      0.00         1\n",
      "       98200       0.00      0.00      0.00         1\n",
      "       99000       0.00      0.00      0.00         2\n",
      "       99100       0.00      0.00      0.00         0\n",
      "       99360       0.00      0.00      0.00         1\n",
      "       99750       0.00      0.00      0.00         1\n",
      "      100000       0.83      0.71      0.77        14\n",
      "      100500       0.00      0.00      0.00         1\n",
      "      100706       0.00      0.00      0.00         1\n",
      "      100800       0.00      0.00      0.00         1\n",
      "      101400       0.00      0.00      0.00         1\n",
      "      101570       0.00      0.00      0.00         2\n",
      "      102000       0.00      0.00      0.00         1\n",
      "      102100       0.00      0.00      0.00         0\n",
      "      104000       0.00      0.00      0.00         1\n",
      "      104300       0.00      0.00      0.00         2\n",
      "      104500       0.00      0.00      0.00         1\n",
      "      105000       1.00      1.00      1.00         3\n",
      "      105200       0.33      1.00      0.50         1\n",
      "      105500       0.00      0.00      0.00         1\n",
      "      105700       0.00      0.00      0.00         1\n",
      "      106000       0.00      0.00      0.00         2\n",
      "      106500       0.00      0.00      0.00         0\n",
      "      106800       0.25      1.00      0.40         1\n",
      "      106900       0.00      0.00      0.00         1\n",
      "      107000       0.00      0.00      0.00         2\n",
      "      107250       0.00      0.00      0.00         1\n",
      "      107900       0.00      0.00      0.00         1\n",
      "      108000       0.20      1.00      0.33         1\n",
      "      109000       0.00      0.00      0.00         2\n",
      "      110000       0.57      1.00      0.73         8\n",
      "      110500       0.33      1.00      0.50         1\n",
      "      110600       0.00      0.00      0.00         1\n",
      "      110680       0.00      0.00      0.00         1\n",
      "      110925       0.00      0.00      0.00         1\n",
      "      111775       0.00      0.00      0.00         1\n",
      "      112000       0.00      0.00      0.00         1\n",
      "      112300       0.00      0.00      0.00         1\n",
      "      112900       0.00      0.00      0.00         2\n",
      "      113000       0.00      0.00      0.00         0\n",
      "      113750       0.00      0.00      0.00         1\n",
      "      114000       0.00      0.00      0.00         1\n",
      "      115000       1.00      1.00      1.00         2\n",
      "      115092       0.00      0.00      0.00         1\n",
      "      115440       0.00      0.00      0.00         1\n",
      "      115934       0.00      0.00      0.00         1\n",
      "      116000       0.50      1.00      0.67         2\n",
      "      116150       0.00      0.00      0.00         1\n",
      "      116990       0.00      0.00      0.00         1\n",
      "      117000       0.00      0.00      0.00         1\n",
      "      118000       0.00      0.00      0.00         1\n",
      "      119000       0.00      0.00      0.00         0\n",
      "      120000       1.00      0.86      0.92        14\n",
      "      121500       0.00      0.00      0.00         1\n",
      "      121700       0.00      0.00      0.00         1\n",
      "      122000       0.20      1.00      0.33         1\n",
      "      122500       0.00      0.00      0.00         0\n",
      "      122600       0.00      0.00      0.00         2\n",
      "      122900       0.00      0.00      0.00         1\n",
      "      123700       0.00      0.00      0.00         1\n",
      "      124000       0.33      1.00      0.50         1\n",
      "      124740       0.00      0.00      0.00         1\n",
      "      125000       1.00      0.80      0.89         5\n",
      "      126000       0.33      1.00      0.50         1\n",
      "      126500       0.00      0.00      0.00         0\n",
      "      127000       0.00      0.00      0.00         1\n",
      "      128000       0.75      1.00      0.86         3\n",
      "      128750       0.00      0.00      0.00         1\n",
      "      128875       0.00      0.00      0.00         2\n",
      "      129000       0.00      0.00      0.00         1\n",
      "      129300       0.40      1.00      0.57         2\n",
      "      130000       0.89      0.80      0.84        10\n",
      "      130001       0.00      0.00      0.00         1\n",
      "      131300       1.00      1.00      1.00         2\n",
      "      132000       0.50      1.00      0.67         1\n",
      "      134000       1.00      1.00      1.00         1\n",
      "      135000       1.00      0.91      0.95        11\n",
      "      136000       0.50      1.00      0.67         1\n",
      "      136100       0.00      0.00      0.00         1\n",
      "      136994       0.00      0.00      0.00         2\n",
      "      137141       0.00      0.00      0.00         1\n",
      "      137400       0.00      0.00      0.00         1\n",
      "      137500       0.00      0.00      0.00         0\n",
      "      138000       0.00      0.00      0.00         1\n",
      "      138750       0.50      1.00      0.67         1\n",
      "      138900       0.00      0.00      0.00         1\n",
      "      139000       0.50      1.00      0.67         1\n",
      "      139600       0.00      0.00      0.00         1\n",
      "      140000       1.00      1.00      1.00         5\n",
      "      140250       0.25      1.00      0.40         1\n",
      "      140400       0.00      0.00      0.00         2\n",
      "      140700       0.00      0.00      0.00         1\n",
      "      141300       0.00      0.00      0.00         0\n",
      "      141525       0.00      0.00      0.00         1\n",
      "      142000       0.33      1.00      0.50         1\n",
      "      142800       0.00      0.00      0.00         1\n",
      "      143000       0.00      0.00      0.00         1\n",
      "      143865       0.00      0.00      0.00         1\n",
      "      144000       0.50      1.00      0.67         2\n",
      "      144100       0.00      0.00      0.00         1\n",
      "      145000       0.83      1.00      0.91         5\n",
      "      145300       0.00      0.00      0.00         1\n",
      "      145885       0.00      0.00      0.00         1\n",
      "      145900       0.00      0.00      0.00         1\n",
      "      146000       0.33      1.00      0.50         1\n",
      "      146200       0.00      0.00      0.00         1\n",
      "      147000       0.00      0.00      0.00         3\n",
      "      147100       0.00      0.00      0.00         0\n",
      "      148000       0.00      0.00      0.00         1\n",
      "      148500       0.00      0.00      0.00         1\n",
      "      148700       0.00      0.00      0.00         2\n",
      "      148750       0.00      0.00      0.00         1\n",
      "      148800       0.00      0.00      0.00         1\n",
      "      149000       0.00      0.00      0.00         1\n",
      "      149500       0.00      0.00      0.00         1\n",
      "      149850       0.00      0.00      0.00         0\n",
      "      150000       1.00      0.88      0.93         8\n",
      "      150260       0.00      0.00      0.00         1\n",
      "      150900       0.00      0.00      0.00         1\n",
      "      151000       0.00      0.00      0.00         0\n",
      "      151800       0.00      0.00      0.00         1\n",
      "      152000       0.00      0.00      0.00         4\n",
      "      152500       0.00      0.00      0.00         1\n",
      "      153000       0.50      1.00      0.67         1\n",
      "      153088       0.00      0.00      0.00         1\n",
      "      153400       0.00      0.00      0.00         1\n",
      "      153600       0.00      0.00      0.00         3\n",
      "      154000       0.38      1.00      0.55         3\n",
      "      155000       1.00      1.00      1.00         3\n",
      "      156000       0.00      0.00      0.00         1\n",
      "      156400       0.75      1.00      0.86         3\n",
      "      158000       0.00      0.00      0.00         1\n",
      "      159000       0.00      0.00      0.00         0\n",
      "      159100       0.00      0.00      0.00         1\n",
      "      159500       0.00      0.00      0.00         2\n",
      "      159699       0.00      0.00      0.00         1\n",
      "      160000       1.00      0.83      0.91         6\n",
      "      160080       0.00      0.00      0.00         1\n",
      "      161000       0.00      0.00      0.00         0\n",
      "      161500       0.00      0.00      0.00         0\n",
      "      161800       0.00      0.00      0.00         1\n",
      "      162000       0.00      0.00      0.00         1\n",
      "      162500       0.00      0.00      0.00         1\n",
      "      164000       1.00      0.50      0.67         2\n",
      "      165000       1.00      1.00      1.00         4\n",
      "      166000       0.00      0.00      0.00         1\n",
      "      167000       0.00      0.00      0.00         1\n",
      "      167500       0.25      1.00      0.40         1\n",
      "      167580       0.00      0.00      0.00         1\n",
      "      168000       0.00      0.00      0.00         2\n",
      "      168400       0.00      0.00      0.00         0\n",
      "      169000       0.00      0.00      0.00         1\n",
      "      170000       1.00      0.86      0.92         7\n",
      "      171000       0.00      0.00      0.00         0\n",
      "      171250       0.00      0.00      0.00         1\n",
      "      171600       0.00      0.00      0.00         1\n",
      "      172000       0.00      0.00      0.00         1\n",
      "      172200       0.67      1.00      0.80         2\n",
      "      172600       0.00      0.00      0.00         1\n",
      "      173000       0.00      0.00      0.00         2\n",
      "      174000       0.25      1.00      0.40         1\n",
      "      175000       1.00      1.00      1.00         8\n",
      "      177600       0.00      0.00      0.00         0\n",
      "      178000       0.00      0.00      0.00         1\n",
      "      179000       0.00      0.00      0.00         1\n",
      "      179305       0.00      0.00      0.00         1\n",
      "      179400       0.00      0.00      0.00         1\n",
      "      179775       0.00      0.00      0.00         1\n",
      "      179975       0.00      0.00      0.00         1\n",
      "      180000       0.86      1.00      0.92         6\n",
      "      182000       1.00      1.00      1.00         1\n",
      "      182750       0.00      0.00      0.00         1\n",
      "      183000       0.00      0.00      0.00         4\n",
      "      183500       0.00      0.00      0.00         1\n",
      "      183600       0.00      0.00      0.00         1\n",
      "      184000       0.22      1.00      0.36         2\n",
      "      185000       1.00      1.00      1.00         7\n",
      "      185900       1.00      1.00      1.00         2\n",
      "      186000       0.50      1.00      0.67         1\n",
      "      187000       0.00      0.00      0.00         1\n",
      "      187500       0.25      1.00      0.40         1\n",
      "      188700       0.00      0.00      0.00         1\n",
      "      189110       0.00      0.00      0.00         1\n",
      "      189650       0.00      0.00      0.00         1\n",
      "      190000       0.88      1.00      0.93         7\n",
      "      190200       0.00      0.00      0.00         1\n",
      "      191475       0.00      0.00      0.00         1\n",
      "      191765       0.00      0.00      0.00         1\n",
      "      192000       0.40      1.00      0.57         2\n",
      "      192564       0.00      0.00      0.00         1\n",
      "      193000       0.00      0.00      0.00         1\n",
      "      193750       0.00      0.00      0.00         1\n",
      "      193900       0.00      0.00      0.00         0\n",
      "      194500       0.00      0.00      0.00         1\n",
      "      195000       0.00      0.00      0.00         1\n",
      "      195400       0.00      0.00      0.00         1\n",
      "      196000       0.17      1.00      0.29         1\n",
      "      197000       0.00      0.00      0.00         1\n",
      "      197430       0.00      0.00      0.00         1\n",
      "      198000       0.00      0.00      0.00         1\n",
      "      198200       0.00      0.00      0.00         2\n",
      "      198440       0.00      0.00      0.00         0\n",
      "      198800       0.00      0.00      0.00         1\n",
      "      199000       0.00      0.00      0.00         1\n",
      "      200000       1.00      0.89      0.94         9\n",
      "      201000       0.00      0.00      0.00         0\n",
      "      201036       0.00      0.00      0.00         1\n",
      "      201450       0.00      0.00      0.00         2\n",
      "      202900       0.00      0.00      0.00         1\n",
      "      203000       0.00      0.00      0.00         1\n",
      "      203500       0.40      1.00      0.57         2\n",
      "      204500       0.00      0.00      0.00         2\n",
      "      205000       0.67      1.00      0.80         2\n",
      "      205600       0.00      0.00      0.00         1\n",
      "      205920       0.00      0.00      0.00         1\n",
      "      206000       0.00      0.00      0.00         1\n",
      "      207000       0.00      0.00      0.00         0\n",
      "      208049       0.00      0.00      0.00         1\n",
      "      208775       0.00      0.00      0.00         1\n",
      "      209100       0.00      0.00      0.00         1\n",
      "      210000       1.00      1.00      1.00         2\n",
      "      210550       0.00      0.00      0.00         0\n",
      "      211500       0.00      0.00      0.00         1\n",
      "      214000       0.00      0.00      0.00         1\n",
      "      215000       0.00      0.00      0.00         0\n",
      "      215050       0.00      0.00      0.00         1\n",
      "      216000       0.00      0.00      0.00         0\n",
      "      216200       0.00      0.00      0.00         1\n",
      "      219535       0.00      0.00      0.00         1\n",
      "      220000       0.83      1.00      0.91         5\n",
      "      220110       0.00      0.00      0.00         0\n",
      "      221000       0.00      0.00      0.00         1\n",
      "      222000       0.00      0.00      0.00         1\n",
      "      225000       0.60      1.00      0.75         6\n",
      "      225900       0.00      0.00      0.00         1\n",
      "      226700       0.00      0.00      0.00         1\n",
      "      227200       0.00      0.00      0.00         1\n",
      "      228000       0.00      0.00      0.00         1\n",
      "      230000       1.00      1.00      1.00         4\n",
      "      231250       1.00      1.00      1.00         1\n",
      "      235000       0.50      1.00      0.67         3\n",
      "      236000       0.00      0.00      0.00         1\n",
      "      236600       0.00      0.00      0.00         1\n",
      "      237000       0.00      0.00      0.00         1\n",
      "      239000       0.00      0.00      0.00         2\n",
      "      240000       0.60      1.00      0.75         3\n",
      "      240500       0.00      0.00      0.00         1\n",
      "      241000       0.50      1.00      0.67         1\n",
      "      245000       1.00      1.00      1.00         1\n",
      "      247300       0.00      0.00      0.00         1\n",
      "      247500       0.67      1.00      0.80         2\n",
      "      249260       0.00      0.00      0.00         1\n",
      "      249300       0.00      0.00      0.00         1\n",
      "      249500       0.00      0.00      0.00         0\n",
      "      250000       0.86      1.00      0.92         6\n",
      "      250500       0.00      0.00      0.00         1\n",
      "      252000       0.00      0.00      0.00         0\n",
      "      253750       0.00      0.00      0.00         1\n",
      "      257000       0.00      0.00      0.00         1\n",
      "      259000       0.00      0.00      0.00         1\n",
      "      260000       1.00      1.00      1.00         2\n",
      "      262000       0.00      0.00      0.00         1\n",
      "      262500       0.00      0.00      0.00         1\n",
      "      265000       0.00      0.00      0.00         1\n",
      "      266400       0.00      0.00      0.00         1\n",
      "      269600       0.00      0.00      0.00         1\n",
      "      270703       0.00      0.00      0.00         1\n",
      "      272000       0.00      0.00      0.00         1\n",
      "      275000       0.00      0.00      0.00         0\n",
      "      276000       0.00      0.00      0.00         0\n",
      "      280100       0.00      0.00      0.00         1\n",
      "      284310       0.00      0.00      0.00         1\n",
      "      286000       0.00      0.00      0.00         1\n",
      "      288000       0.00      0.00      0.00         1\n",
      "      291500       0.00      0.00      0.00         1\n",
      "      300000       1.00      1.00      1.00         1\n",
      "      310000       0.00      0.00      0.00         0\n",
      "      315000       0.00      0.00      0.00         1\n",
      "      350000       0.00      0.00      0.00         1\n",
      "      375000       0.00      0.00      0.00         1\n",
      "      376080       0.00      0.00      0.00         0\n",
      "      385000       0.00      0.00      0.00         1\n",
      "      400000       0.00      0.00      0.00         2\n",
      "      420000       0.00      0.00      0.00         1\n",
      "      450000       0.00      0.00      0.00         0\n",
      "      633000       0.00      0.00      0.00         1\n",
      "      900000       0.00      0.00      0.00         1\n",
      "     1000000       0.00      0.00      0.00         1\n",
      "     1100000       0.00      0.00      0.00         1\n",
      "     1250000       0.00      0.00      0.00         1\n",
      "     1400000       0.00      0.00      0.00         0\n",
      "     1500000       0.00      0.00      0.00         1\n",
      "     1672000       0.00      0.00      0.00         1\n",
      "     2400000       0.00      0.00      0.00         1\n",
      "     3000000       0.00      0.00      0.00         2\n",
      "     4000000       0.00      0.00      0.00         1\n",
      "     4200000       0.00      0.00      0.00         1\n",
      "     6600000       0.00      0.00      0.00         1\n",
      "     8500000       0.00      0.00      0.00         1\n",
      "\n",
      "    accuracy                           0.48       646\n",
      "   macro avg       0.15      0.22      0.17       646\n",
      "weighted avg       0.40      0.48      0.42       646\n",
      "\n"
     ]
    },
    {
     "name": "stderr",
     "output_type": "stream",
     "text": [
      "C:\\Users\\Kavitha Ooha\\Anaconda3\\lib\\site-packages\\sklearn\\metrics\\_classification.py:1245: UndefinedMetricWarning: Precision and F-score are ill-defined and being set to 0.0 in labels with no predicted samples. Use `zero_division` parameter to control this behavior.\n",
      "  _warn_prf(average, modifier, msg_start, len(result))\n",
      "C:\\Users\\Kavitha Ooha\\Anaconda3\\lib\\site-packages\\sklearn\\metrics\\_classification.py:1245: UndefinedMetricWarning: Recall and F-score are ill-defined and being set to 0.0 in labels with no true samples. Use `zero_division` parameter to control this behavior.\n",
      "  _warn_prf(average, modifier, msg_start, len(result))\n",
      "C:\\Users\\Kavitha Ooha\\Anaconda3\\lib\\site-packages\\sklearn\\metrics\\_classification.py:1245: UndefinedMetricWarning: Precision and F-score are ill-defined and being set to 0.0 in labels with no predicted samples. Use `zero_division` parameter to control this behavior.\n",
      "  _warn_prf(average, modifier, msg_start, len(result))\n",
      "C:\\Users\\Kavitha Ooha\\Anaconda3\\lib\\site-packages\\sklearn\\metrics\\_classification.py:1245: UndefinedMetricWarning: Recall and F-score are ill-defined and being set to 0.0 in labels with no true samples. Use `zero_division` parameter to control this behavior.\n",
      "  _warn_prf(average, modifier, msg_start, len(result))\n",
      "C:\\Users\\Kavitha Ooha\\Anaconda3\\lib\\site-packages\\sklearn\\metrics\\_classification.py:1245: UndefinedMetricWarning: Precision and F-score are ill-defined and being set to 0.0 in labels with no predicted samples. Use `zero_division` parameter to control this behavior.\n",
      "  _warn_prf(average, modifier, msg_start, len(result))\n",
      "C:\\Users\\Kavitha Ooha\\Anaconda3\\lib\\site-packages\\sklearn\\metrics\\_classification.py:1245: UndefinedMetricWarning: Recall and F-score are ill-defined and being set to 0.0 in labels with no true samples. Use `zero_division` parameter to control this behavior.\n",
      "  _warn_prf(average, modifier, msg_start, len(result))\n"
     ]
    }
   ],
   "source": [
    "### decision tree\n",
    "\n",
    "dt1 = DecisionTreeClassifier(criterion='entropy',max_depth=8,min_samples_split=15)\n",
    "gen_model(dt1,x_train,x_test,y_train,y_test)"
   ]
  },
  {
   "cell_type": "code",
   "execution_count": 120,
   "id": "46c89def",
   "metadata": {},
   "outputs": [
    {
     "name": "stdout",
     "output_type": "stream",
     "text": [
      "Train Score 0.5056759545923633\n",
      "Test Score 0.19195046439628483\n",
      "[[0 0 1 ... 0 0 0]\n",
      " [0 1 0 ... 0 0 0]\n",
      " [0 0 0 ... 0 0 0]\n",
      " ...\n",
      " [0 0 0 ... 0 0 0]\n",
      " [0 0 0 ... 0 0 0]\n",
      " [0 0 0 ... 0 0 0]]\n",
      "              precision    recall  f1-score   support\n",
      "\n",
      "        9272       0.00      0.00      0.00         1\n",
      "       10000       0.50      0.50      0.50         2\n",
      "       12000       0.00      0.00      0.00         1\n",
      "       19000       0.00      0.00      0.00         1\n",
      "       20000       0.50      0.67      0.57         3\n",
      "       21000       0.00      0.00      0.00         1\n",
      "       22000       0.00      0.00      0.00         1\n",
      "       24000       0.00      0.00      0.00         2\n",
      "       25000       0.00      0.00      0.00         1\n",
      "       28500       0.00      0.00      0.00         1\n",
      "       30000       0.12      0.50      0.20         2\n",
      "       31000       0.00      0.00      0.00         1\n",
      "       32400       0.00      0.00      0.00         0\n",
      "       33000       0.00      0.00      0.00         3\n",
      "       35000       0.33      0.50      0.40         2\n",
      "       36000       0.00      0.00      0.00         2\n",
      "       38000       0.00      0.00      0.00         1\n",
      "       38400       0.00      0.00      0.00         2\n",
      "       39600       0.00      0.00      0.00         1\n",
      "       40000       0.14      0.25      0.18         4\n",
      "       40300       0.00      0.00      0.00         1\n",
      "       42000       0.00      0.00      0.00         2\n",
      "       43200       0.00      0.00      0.00         1\n",
      "       44000       0.00      0.00      0.00         1\n",
      "       45000       0.20      0.20      0.20         5\n",
      "       47500       0.00      0.00      0.00         1\n",
      "       48000       0.33      0.33      0.33         6\n",
      "       50000       0.40      0.77      0.53        13\n",
      "       52000       0.00      0.00      0.00         2\n",
      "       52500       0.00      0.00      0.00         5\n",
      "       54000       0.00      0.00      0.00         1\n",
      "       55000       0.00      0.00      0.00         1\n",
      "       57000       0.00      0.00      0.00         2\n",
      "       58000       0.00      0.00      0.00         2\n",
      "       59000       0.00      0.00      0.00         3\n",
      "       60000       0.17      0.57      0.27         7\n",
      "       61000       0.00      0.00      0.00         1\n",
      "       62000       0.00      0.00      0.00         1\n",
      "       62500       0.00      0.00      0.00         1\n",
      "       63000       0.50      1.00      0.67         2\n",
      "       64200       0.00      0.00      0.00         1\n",
      "       65000       0.18      0.33      0.24         6\n",
      "       66000       0.00      0.00      0.00         3\n",
      "       68000       0.00      0.00      0.00         1\n",
      "       70000       0.42      0.42      0.42        12\n",
      "       72000       0.00      0.00      0.00         3\n",
      "       72500       0.00      0.00      0.00         1\n",
      "       73000       0.00      0.00      0.00         1\n",
      "       74178       0.00      0.00      0.00         1\n",
      "       74540       0.00      0.00      0.00         2\n",
      "       75000       0.17      0.11      0.13         9\n",
      "       76000       0.00      0.00      0.00         1\n",
      "       77300       0.00      0.00      0.00         1\n",
      "       78000       0.00      0.00      0.00         1\n",
      "       79000       0.00      0.00      0.00         1\n",
      "       80000       0.17      0.62      0.26         8\n",
      "       81500       0.00      0.00      0.00         2\n",
      "       81666       0.00      0.00      0.00         1\n",
      "       82900       0.00      0.00      0.00         1\n",
      "       83300       0.00      0.00      0.00         1\n",
      "       83500       0.00      0.00      0.00         1\n",
      "       84570       0.00      0.00      0.00         1\n",
      "       85000       0.00      0.00      0.00         8\n",
      "       86000       0.00      0.00      0.00         1\n",
      "       90000       0.29      0.38      0.33        13\n",
      "       90320       0.00      0.00      0.00         1\n",
      "       90700       0.00      0.00      0.00         0\n",
      "       93000       0.00      0.00      0.00         1\n",
      "       94000       0.00      0.00      0.00         2\n",
      "       94500       0.00      0.00      0.00         1\n",
      "       95000       0.00      0.00      0.00         9\n",
      "       96100       0.00      0.00      0.00         1\n",
      "       97000       0.00      0.00      0.00         1\n",
      "       98000       0.00      0.00      0.00         1\n",
      "       98200       0.00      0.00      0.00         1\n",
      "       99000       0.00      0.00      0.00         2\n",
      "       99360       0.00      0.00      0.00         1\n",
      "       99750       0.00      0.00      0.00         1\n",
      "      100000       0.20      0.86      0.33        14\n",
      "      100500       0.00      0.00      0.00         1\n",
      "      100706       0.00      0.00      0.00         1\n",
      "      100800       0.00      0.00      0.00         1\n",
      "      101400       0.00      0.00      0.00         1\n",
      "      101570       0.00      0.00      0.00         2\n",
      "      102000       0.00      0.00      0.00         1\n",
      "      104000       0.00      0.00      0.00         1\n",
      "      104300       0.00      0.00      0.00         2\n",
      "      104500       0.00      0.00      0.00         1\n",
      "      105000       0.00      0.00      0.00         3\n",
      "      105200       0.00      0.00      0.00         1\n",
      "      105500       0.00      0.00      0.00         1\n",
      "      105700       0.00      0.00      0.00         1\n",
      "      106000       0.00      0.00      0.00         2\n",
      "      106500       0.00      0.00      0.00         0\n",
      "      106800       0.00      0.00      0.00         1\n",
      "      106900       0.00      0.00      0.00         1\n",
      "      107000       0.00      0.00      0.00         2\n",
      "      107250       0.00      0.00      0.00         1\n",
      "      107900       0.00      0.00      0.00         1\n",
      "      108000       0.00      0.00      0.00         1\n",
      "      109000       0.00      0.00      0.00         2\n",
      "      110000       0.28      0.62      0.38         8\n",
      "      110500       0.00      0.00      0.00         1\n",
      "      110600       0.00      0.00      0.00         1\n",
      "      110680       0.00      0.00      0.00         1\n",
      "      110925       0.00      0.00      0.00         1\n",
      "      111775       0.00      0.00      0.00         1\n",
      "      112000       0.00      0.00      0.00         1\n",
      "      112300       0.00      0.00      0.00         1\n",
      "      112900       0.00      0.00      0.00         2\n",
      "      113750       0.00      0.00      0.00         1\n",
      "      114000       0.00      0.00      0.00         1\n",
      "      115000       0.20      0.50      0.29         2\n",
      "      115092       0.00      0.00      0.00         1\n",
      "      115440       0.00      0.00      0.00         1\n",
      "      115934       0.00      0.00      0.00         1\n",
      "      116000       0.00      0.00      0.00         2\n",
      "      116150       0.00      0.00      0.00         1\n",
      "      116990       0.00      0.00      0.00         1\n",
      "      117000       0.00      0.00      0.00         1\n",
      "      118000       0.00      0.00      0.00         1\n",
      "      120000       0.28      0.86      0.42        14\n",
      "      121500       0.00      0.00      0.00         1\n",
      "      121700       0.00      0.00      0.00         1\n",
      "      122000       0.00      0.00      0.00         1\n",
      "      122600       0.00      0.00      0.00         2\n",
      "      122900       0.00      0.00      0.00         1\n",
      "      123700       0.00      0.00      0.00         1\n",
      "      124000       0.00      0.00      0.00         1\n",
      "      124740       0.00      0.00      0.00         1\n",
      "      125000       0.00      0.00      0.00         5\n",
      "      126000       0.00      0.00      0.00         1\n",
      "      127000       0.00      0.00      0.00         1\n",
      "      128000       0.00      0.00      0.00         3\n",
      "      128750       0.00      0.00      0.00         1\n",
      "      128875       0.00      0.00      0.00         2\n",
      "      129000       0.00      0.00      0.00         1\n",
      "      129300       0.00      0.00      0.00         2\n",
      "      130000       0.35      0.70      0.47        10\n",
      "      130001       0.00      0.00      0.00         1\n",
      "      131300       0.00      0.00      0.00         2\n",
      "      132000       0.00      0.00      0.00         1\n",
      "      134000       0.00      0.00      0.00         1\n",
      "      135000       0.30      0.55      0.39        11\n",
      "      136000       0.00      0.00      0.00         1\n",
      "      136100       0.00      0.00      0.00         1\n",
      "      136994       0.00      0.00      0.00         2\n",
      "      137141       0.00      0.00      0.00         1\n",
      "      137400       0.00      0.00      0.00         1\n",
      "      138000       0.00      0.00      0.00         1\n",
      "      138750       0.00      0.00      0.00         1\n",
      "      138900       0.00      0.00      0.00         1\n",
      "      139000       0.00      0.00      0.00         1\n",
      "      139600       0.00      0.00      0.00         1\n",
      "      140000       0.25      0.60      0.35         5\n",
      "      140250       0.00      0.00      0.00         1\n",
      "      140400       0.00      0.00      0.00         2\n",
      "      140700       0.00      0.00      0.00         1\n",
      "      141525       0.00      0.00      0.00         1\n",
      "      142000       0.00      0.00      0.00         1\n",
      "      142800       0.00      0.00      0.00         1\n",
      "      143000       0.00      0.00      0.00         1\n",
      "      143865       0.00      0.00      0.00         1\n",
      "      144000       0.00      0.00      0.00         2\n",
      "      144100       0.00      0.00      0.00         1\n",
      "      145000       0.25      0.20      0.22         5\n",
      "      145300       0.00      0.00      0.00         1\n",
      "      145885       0.00      0.00      0.00         1\n",
      "      145900       0.00      0.00      0.00         1\n",
      "      146000       0.00      0.00      0.00         1\n",
      "      146200       0.00      0.00      0.00         1\n",
      "      147000       0.00      0.00      0.00         3\n",
      "      148000       0.00      0.00      0.00         1\n",
      "      148500       0.00      0.00      0.00         1\n",
      "      148700       0.00      0.00      0.00         2\n",
      "      148750       0.00      0.00      0.00         1\n",
      "      148800       0.00      0.00      0.00         1\n",
      "      149000       0.00      0.00      0.00         1\n",
      "      149500       0.00      0.00      0.00         1\n",
      "      150000       0.15      0.88      0.26         8\n",
      "      150260       0.00      0.00      0.00         1\n",
      "      150900       0.00      0.00      0.00         1\n",
      "      151800       0.00      0.00      0.00         1\n",
      "      152000       0.00      0.00      0.00         4\n",
      "      152500       0.00      0.00      0.00         1\n",
      "      153000       0.00      0.00      0.00         1\n",
      "      153088       0.00      0.00      0.00         1\n",
      "      153400       0.00      0.00      0.00         1\n",
      "      153600       0.00      0.00      0.00         3\n",
      "      154000       0.00      0.00      0.00         3\n",
      "      155000       0.25      0.33      0.29         3\n",
      "      156000       0.00      0.00      0.00         1\n",
      "      156400       0.00      0.00      0.00         3\n",
      "      158000       0.00      0.00      0.00         1\n",
      "      159100       0.00      0.00      0.00         1\n",
      "      159500       0.00      0.00      0.00         2\n",
      "      159699       0.00      0.00      0.00         1\n",
      "      160000       0.16      0.50      0.24         6\n",
      "      160080       0.00      0.00      0.00         1\n",
      "      161800       0.00      0.00      0.00         1\n",
      "      162000       0.00      0.00      0.00         1\n",
      "      162500       0.00      0.00      0.00         1\n",
      "      164000       0.00      0.00      0.00         2\n",
      "      165000       0.14      0.25      0.18         4\n",
      "      166000       0.00      0.00      0.00         1\n",
      "      167000       0.00      0.00      0.00         1\n",
      "      167500       0.00      0.00      0.00         1\n",
      "      167580       0.00      0.00      0.00         1\n",
      "      168000       0.00      0.00      0.00         2\n",
      "      168400       0.00      0.00      0.00         0\n",
      "      169000       0.00      0.00      0.00         1\n",
      "      170000       0.30      0.43      0.35         7\n",
      "      171250       0.00      0.00      0.00         1\n",
      "      171600       0.00      0.00      0.00         1\n",
      "      172000       0.00      0.00      0.00         1\n",
      "      172200       0.00      0.00      0.00         2\n",
      "      172600       0.00      0.00      0.00         1\n",
      "      173000       0.00      0.00      0.00         2\n",
      "      174000       0.00      0.00      0.00         1\n",
      "      175000       0.40      0.25      0.31         8\n",
      "      178000       0.00      0.00      0.00         1\n",
      "      179000       0.00      0.00      0.00         1\n",
      "      179305       0.00      0.00      0.00         1\n",
      "      179400       0.00      0.00      0.00         1\n",
      "      179775       0.00      0.00      0.00         1\n",
      "      179975       0.00      0.00      0.00         1\n",
      "      180000       0.17      0.83      0.28         6\n",
      "      182000       0.00      0.00      0.00         1\n",
      "      182750       0.00      0.00      0.00         1\n",
      "      183000       0.00      0.00      0.00         4\n",
      "      183500       0.00      0.00      0.00         1\n",
      "      183600       0.00      0.00      0.00         1\n",
      "      184000       0.00      0.00      0.00         2\n",
      "      185000       0.00      0.00      0.00         7\n",
      "      185900       0.00      0.00      0.00         2\n",
      "      186000       0.00      0.00      0.00         1\n",
      "      187000       0.00      0.00      0.00         1\n",
      "      187500       0.00      0.00      0.00         1\n",
      "      188700       0.00      0.00      0.00         1\n",
      "      189110       0.00      0.00      0.00         1\n",
      "      189650       0.00      0.00      0.00         1\n",
      "      190000       0.00      0.00      0.00         7\n",
      "      190200       0.00      0.00      0.00         1\n",
      "      191475       0.00      0.00      0.00         1\n",
      "      191765       0.00      0.00      0.00         1\n",
      "      192000       0.00      0.00      0.00         2\n",
      "      192564       0.00      0.00      0.00         1\n",
      "      193000       0.00      0.00      0.00         1\n",
      "      193750       0.00      0.00      0.00         1\n",
      "      193900       0.00      0.00      0.00         0\n",
      "      194500       0.00      0.00      0.00         1\n",
      "      195000       0.00      0.00      0.00         1\n",
      "      195400       0.00      0.00      0.00         1\n",
      "      196000       0.00      0.00      0.00         1\n",
      "      197000       0.00      0.00      0.00         1\n",
      "      197430       0.00      0.00      0.00         1\n",
      "      198000       0.00      0.00      0.00         1\n",
      "      198200       0.00      0.00      0.00         2\n",
      "      198440       0.00      0.00      0.00         0\n",
      "      198800       0.00      0.00      0.00         1\n",
      "      199000       0.00      0.00      0.00         1\n",
      "      200000       0.13      1.00      0.23         9\n",
      "      201036       0.00      0.00      0.00         1\n",
      "      201450       0.00      0.00      0.00         2\n",
      "      202900       0.00      0.00      0.00         1\n",
      "      203000       0.00      0.00      0.00         1\n",
      "      203500       0.00      0.00      0.00         2\n",
      "      204500       0.00      0.00      0.00         2\n",
      "      205000       0.00      0.00      0.00         2\n",
      "      205300       0.00      0.00      0.00         0\n",
      "      205600       0.00      0.00      0.00         1\n",
      "      205920       0.00      0.00      0.00         1\n",
      "      206000       0.00      0.00      0.00         1\n",
      "      208049       0.00      0.00      0.00         1\n",
      "      208775       0.00      0.00      0.00         1\n",
      "      209100       0.00      0.00      0.00         1\n",
      "      210000       0.00      0.00      0.00         2\n",
      "      211500       0.00      0.00      0.00         1\n",
      "      212750       0.00      0.00      0.00         0\n",
      "      214000       0.00      0.00      0.00         1\n",
      "      215050       0.00      0.00      0.00         1\n",
      "      216200       0.00      0.00      0.00         1\n",
      "      219535       0.00      0.00      0.00         1\n",
      "      220000       0.20      0.20      0.20         5\n",
      "      221000       0.00      0.00      0.00         1\n",
      "      222000       0.00      0.00      0.00         1\n",
      "      225000       0.00      0.00      0.00         6\n",
      "      225900       0.00      0.00      0.00         1\n",
      "      226700       0.00      0.00      0.00         1\n",
      "      227200       0.00      0.00      0.00         1\n",
      "      228000       0.00      0.00      0.00         1\n",
      "      230000       0.11      0.25      0.15         4\n",
      "      231250       0.00      0.00      0.00         1\n",
      "      235000       0.00      0.00      0.00         3\n",
      "      236000       0.00      0.00      0.00         1\n",
      "      236600       0.00      0.00      0.00         1\n",
      "      237000       0.00      0.00      0.00         1\n",
      "      239000       0.00      0.00      0.00         2\n",
      "      240000       0.00      0.00      0.00         3\n",
      "      240500       0.00      0.00      0.00         1\n",
      "      241000       0.00      0.00      0.00         1\n",
      "      245000       0.00      0.00      0.00         1\n",
      "      247300       0.00      0.00      0.00         1\n",
      "      247500       0.00      0.00      0.00         2\n",
      "      249260       0.00      0.00      0.00         1\n",
      "      249300       0.00      0.00      0.00         1\n",
      "      250000       0.20      0.17      0.18         6\n",
      "      250500       0.00      0.00      0.00         1\n",
      "      253750       0.00      0.00      0.00         1\n",
      "      257000       0.00      0.00      0.00         1\n",
      "      259000       0.00      0.00      0.00         1\n",
      "      260000       0.00      0.00      0.00         2\n",
      "      262000       0.00      0.00      0.00         1\n",
      "      262500       0.00      0.00      0.00         1\n",
      "      265000       0.00      0.00      0.00         1\n",
      "      266400       0.00      0.00      0.00         1\n",
      "      269000       0.00      0.00      0.00         0\n",
      "      269600       0.00      0.00      0.00         1\n",
      "      270703       0.00      0.00      0.00         1\n",
      "      272000       0.00      0.00      0.00         1\n",
      "      275000       0.00      0.00      0.00         0\n",
      "      276000       0.00      0.00      0.00         0\n",
      "      280100       0.00      0.00      0.00         1\n",
      "      284310       0.00      0.00      0.00         1\n",
      "      286000       0.00      0.00      0.00         1\n",
      "      288000       0.00      0.00      0.00         1\n",
      "      289076       0.00      0.00      0.00         0\n",
      "      291500       0.00      0.00      0.00         1\n",
      "      297300       0.00      0.00      0.00         0\n",
      "      300000       0.00      0.00      0.00         1\n",
      "      304000       0.00      0.00      0.00         0\n",
      "      315000       0.00      0.00      0.00         1\n",
      "      342300       0.00      0.00      0.00         0\n",
      "      350000       0.00      0.00      0.00         1\n",
      "      375000       0.00      0.00      0.00         1\n",
      "      385000       0.00      0.00      0.00         1\n",
      "      400000       0.00      0.00      0.00         2\n",
      "      420000       0.00      0.00      0.00         1\n",
      "      450000       0.00      0.00      0.00         0\n",
      "      633000       0.00      0.00      0.00         1\n",
      "      900000       0.00      0.00      0.00         1\n",
      "     1000000       0.00      0.00      0.00         1\n",
      "     1100000       0.00      0.00      0.00         1\n",
      "     1250000       0.00      0.00      0.00         1\n",
      "     1400000       0.00      0.00      0.00         0\n",
      "     1500000       0.00      0.00      0.00         1\n",
      "     1672000       0.00      0.00      0.00         1\n",
      "     2400000       0.00      0.00      0.00         1\n",
      "     3000000       0.00      0.00      0.00         2\n",
      "     4000000       0.00      0.00      0.00         1\n",
      "     4200000       0.00      0.00      0.00         1\n",
      "     6600000       0.00      0.00      0.00         1\n",
      "     8500000       0.00      0.00      0.00         1\n",
      "    11000000       0.00      0.00      0.00         0\n",
      "\n",
      "    accuracy                           0.19       646\n",
      "   macro avg       0.02      0.05      0.03       646\n",
      "weighted avg       0.09      0.19      0.11       646\n",
      "\n"
     ]
    },
    {
     "name": "stderr",
     "output_type": "stream",
     "text": [
      "C:\\Users\\Kavitha Ooha\\Anaconda3\\lib\\site-packages\\sklearn\\metrics\\_classification.py:1245: UndefinedMetricWarning: Precision and F-score are ill-defined and being set to 0.0 in labels with no predicted samples. Use `zero_division` parameter to control this behavior.\n",
      "  _warn_prf(average, modifier, msg_start, len(result))\n",
      "C:\\Users\\Kavitha Ooha\\Anaconda3\\lib\\site-packages\\sklearn\\metrics\\_classification.py:1245: UndefinedMetricWarning: Recall and F-score are ill-defined and being set to 0.0 in labels with no true samples. Use `zero_division` parameter to control this behavior.\n",
      "  _warn_prf(average, modifier, msg_start, len(result))\n",
      "C:\\Users\\Kavitha Ooha\\Anaconda3\\lib\\site-packages\\sklearn\\metrics\\_classification.py:1245: UndefinedMetricWarning: Precision and F-score are ill-defined and being set to 0.0 in labels with no predicted samples. Use `zero_division` parameter to control this behavior.\n",
      "  _warn_prf(average, modifier, msg_start, len(result))\n",
      "C:\\Users\\Kavitha Ooha\\Anaconda3\\lib\\site-packages\\sklearn\\metrics\\_classification.py:1245: UndefinedMetricWarning: Recall and F-score are ill-defined and being set to 0.0 in labels with no true samples. Use `zero_division` parameter to control this behavior.\n",
      "  _warn_prf(average, modifier, msg_start, len(result))\n",
      "C:\\Users\\Kavitha Ooha\\Anaconda3\\lib\\site-packages\\sklearn\\metrics\\_classification.py:1245: UndefinedMetricWarning: Precision and F-score are ill-defined and being set to 0.0 in labels with no predicted samples. Use `zero_division` parameter to control this behavior.\n",
      "  _warn_prf(average, modifier, msg_start, len(result))\n",
      "C:\\Users\\Kavitha Ooha\\Anaconda3\\lib\\site-packages\\sklearn\\metrics\\_classification.py:1245: UndefinedMetricWarning: Recall and F-score are ill-defined and being set to 0.0 in labels with no true samples. Use `zero_division` parameter to control this behavior.\n",
      "  _warn_prf(average, modifier, msg_start, len(result))\n"
     ]
    }
   ],
   "source": [
    "#### random forest\n",
    "\n",
    "\n",
    "rf1 = RandomForestClassifier(n_estimators=70,criterion='entropy', max_depth=8, min_samples_split=15)\n",
    "gen_model(rf1,x_train,x_test,y_train,y_test)"
   ]
  }
 ],
 "metadata": {
  "kernelspec": {
   "display_name": "Python 3",
   "language": "python",
   "name": "python3"
  },
  "language_info": {
   "codemirror_mode": {
    "name": "ipython",
    "version": 3
   },
   "file_extension": ".py",
   "mimetype": "text/x-python",
   "name": "python",
   "nbconvert_exporter": "python",
   "pygments_lexer": "ipython3",
   "version": "3.8.8"
  }
 },
 "nbformat": 4,
 "nbformat_minor": 5
}
